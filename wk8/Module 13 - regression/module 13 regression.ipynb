{
 "cells": [
  {
   "cell_type": "markdown",
   "metadata": {
    "deletable": true,
    "editable": true
   },
   "source": [
    "# Regression"
   ]
  },
  {
   "cell_type": "markdown",
   "metadata": {
    "deletable": true,
    "editable": true
   },
   "source": [
    "Data from here <href>https://www.kaggle.com/uciml/adult-census-income</href>"
   ]
  },
  {
   "cell_type": "code",
   "execution_count": 30,
   "metadata": {
    "collapsed": false,
    "deletable": true,
    "editable": true,
    "scrolled": true
   },
   "outputs": [
    {
     "name": "stdout",
     "output_type": "stream",
     "text": [
      "Populating the interactive namespace from numpy and matplotlib\n"
     ]
    }
   ],
   "source": [
    "import pandas as pd\n",
    "import numpy as np\n",
    "import seaborn as sns\n",
    "%pylab inline\n",
    "\n",
    "import sklearn as sk"
   ]
  },
  {
   "cell_type": "code",
   "execution_count": 31,
   "metadata": {
    "collapsed": true,
    "deletable": true,
    "editable": true
   },
   "outputs": [],
   "source": [
    "df_original = pd.read_csv('adult.csv')"
   ]
  },
  {
   "cell_type": "markdown",
   "metadata": {
    "deletable": true,
    "editable": true
   },
   "source": [
    "Let's do the same cleaning as in Module 9"
   ]
  },
  {
   "cell_type": "code",
   "execution_count": 32,
   "metadata": {
    "collapsed": true,
    "deletable": true,
    "editable": true
   },
   "outputs": [],
   "source": [
    "df = df_original.replace('?', np.NaN)\n",
    "df = pd.get_dummies(data=df,columns=['workclass','marital.status','occupation',\\\n",
    "                                     'relationship','race','sex', 'native.country'])\n",
    "df.drop(['education'],axis=1,inplace=True)\n",
    "df.income = df.apply(lambda row : 1.0 if row['income'].startswith('>') else 0.0, axis=1)"
   ]
  },
  {
   "cell_type": "code",
   "execution_count": 33,
   "metadata": {
    "collapsed": false,
    "deletable": true,
    "editable": true
   },
   "outputs": [
    {
     "data": {
      "text/html": [
       "<div>\n",
       "<style scoped>\n",
       "    .dataframe tbody tr th:only-of-type {\n",
       "        vertical-align: middle;\n",
       "    }\n",
       "\n",
       "    .dataframe tbody tr th {\n",
       "        vertical-align: top;\n",
       "    }\n",
       "\n",
       "    .dataframe thead th {\n",
       "        text-align: right;\n",
       "    }\n",
       "</style>\n",
       "<table border=\"1\" class=\"dataframe\">\n",
       "  <thead>\n",
       "    <tr style=\"text-align: right;\">\n",
       "      <th></th>\n",
       "      <th>age</th>\n",
       "      <th>fnlwgt</th>\n",
       "      <th>education.num</th>\n",
       "      <th>capital.gain</th>\n",
       "      <th>capital.loss</th>\n",
       "      <th>hours.per.week</th>\n",
       "      <th>income</th>\n",
       "      <th>workclass_Federal-gov</th>\n",
       "      <th>workclass_Local-gov</th>\n",
       "      <th>workclass_Never-worked</th>\n",
       "      <th>...</th>\n",
       "      <th>native.country_Portugal</th>\n",
       "      <th>native.country_Puerto-Rico</th>\n",
       "      <th>native.country_Scotland</th>\n",
       "      <th>native.country_South</th>\n",
       "      <th>native.country_Taiwan</th>\n",
       "      <th>native.country_Thailand</th>\n",
       "      <th>native.country_Trinadad&amp;Tobago</th>\n",
       "      <th>native.country_United-States</th>\n",
       "      <th>native.country_Vietnam</th>\n",
       "      <th>native.country_Yugoslavia</th>\n",
       "    </tr>\n",
       "  </thead>\n",
       "  <tbody>\n",
       "    <tr>\n",
       "      <th>0</th>\n",
       "      <td>90</td>\n",
       "      <td>77053</td>\n",
       "      <td>9</td>\n",
       "      <td>0</td>\n",
       "      <td>4356</td>\n",
       "      <td>40</td>\n",
       "      <td>0.0</td>\n",
       "      <td>0</td>\n",
       "      <td>0</td>\n",
       "      <td>0</td>\n",
       "      <td>...</td>\n",
       "      <td>0</td>\n",
       "      <td>0</td>\n",
       "      <td>0</td>\n",
       "      <td>0</td>\n",
       "      <td>0</td>\n",
       "      <td>0</td>\n",
       "      <td>0</td>\n",
       "      <td>1</td>\n",
       "      <td>0</td>\n",
       "      <td>0</td>\n",
       "    </tr>\n",
       "    <tr>\n",
       "      <th>1</th>\n",
       "      <td>82</td>\n",
       "      <td>132870</td>\n",
       "      <td>9</td>\n",
       "      <td>0</td>\n",
       "      <td>4356</td>\n",
       "      <td>18</td>\n",
       "      <td>0.0</td>\n",
       "      <td>0</td>\n",
       "      <td>0</td>\n",
       "      <td>0</td>\n",
       "      <td>...</td>\n",
       "      <td>0</td>\n",
       "      <td>0</td>\n",
       "      <td>0</td>\n",
       "      <td>0</td>\n",
       "      <td>0</td>\n",
       "      <td>0</td>\n",
       "      <td>0</td>\n",
       "      <td>1</td>\n",
       "      <td>0</td>\n",
       "      <td>0</td>\n",
       "    </tr>\n",
       "    <tr>\n",
       "      <th>2</th>\n",
       "      <td>66</td>\n",
       "      <td>186061</td>\n",
       "      <td>10</td>\n",
       "      <td>0</td>\n",
       "      <td>4356</td>\n",
       "      <td>40</td>\n",
       "      <td>0.0</td>\n",
       "      <td>0</td>\n",
       "      <td>0</td>\n",
       "      <td>0</td>\n",
       "      <td>...</td>\n",
       "      <td>0</td>\n",
       "      <td>0</td>\n",
       "      <td>0</td>\n",
       "      <td>0</td>\n",
       "      <td>0</td>\n",
       "      <td>0</td>\n",
       "      <td>0</td>\n",
       "      <td>1</td>\n",
       "      <td>0</td>\n",
       "      <td>0</td>\n",
       "    </tr>\n",
       "    <tr>\n",
       "      <th>3</th>\n",
       "      <td>54</td>\n",
       "      <td>140359</td>\n",
       "      <td>4</td>\n",
       "      <td>0</td>\n",
       "      <td>3900</td>\n",
       "      <td>40</td>\n",
       "      <td>0.0</td>\n",
       "      <td>0</td>\n",
       "      <td>0</td>\n",
       "      <td>0</td>\n",
       "      <td>...</td>\n",
       "      <td>0</td>\n",
       "      <td>0</td>\n",
       "      <td>0</td>\n",
       "      <td>0</td>\n",
       "      <td>0</td>\n",
       "      <td>0</td>\n",
       "      <td>0</td>\n",
       "      <td>1</td>\n",
       "      <td>0</td>\n",
       "      <td>0</td>\n",
       "    </tr>\n",
       "    <tr>\n",
       "      <th>4</th>\n",
       "      <td>41</td>\n",
       "      <td>264663</td>\n",
       "      <td>10</td>\n",
       "      <td>0</td>\n",
       "      <td>3900</td>\n",
       "      <td>40</td>\n",
       "      <td>0.0</td>\n",
       "      <td>0</td>\n",
       "      <td>0</td>\n",
       "      <td>0</td>\n",
       "      <td>...</td>\n",
       "      <td>0</td>\n",
       "      <td>0</td>\n",
       "      <td>0</td>\n",
       "      <td>0</td>\n",
       "      <td>0</td>\n",
       "      <td>0</td>\n",
       "      <td>0</td>\n",
       "      <td>1</td>\n",
       "      <td>0</td>\n",
       "      <td>0</td>\n",
       "    </tr>\n",
       "  </tbody>\n",
       "</table>\n",
       "<p>5 rows × 90 columns</p>\n",
       "</div>"
      ],
      "text/plain": [
       "   age  fnlwgt  education.num  capital.gain  capital.loss  hours.per.week  \\\n",
       "0   90   77053              9             0          4356              40   \n",
       "1   82  132870              9             0          4356              18   \n",
       "2   66  186061             10             0          4356              40   \n",
       "3   54  140359              4             0          3900              40   \n",
       "4   41  264663             10             0          3900              40   \n",
       "\n",
       "   income  workclass_Federal-gov  workclass_Local-gov  workclass_Never-worked  \\\n",
       "0     0.0                      0                    0                       0   \n",
       "1     0.0                      0                    0                       0   \n",
       "2     0.0                      0                    0                       0   \n",
       "3     0.0                      0                    0                       0   \n",
       "4     0.0                      0                    0                       0   \n",
       "\n",
       "             ...              native.country_Portugal  \\\n",
       "0            ...                                    0   \n",
       "1            ...                                    0   \n",
       "2            ...                                    0   \n",
       "3            ...                                    0   \n",
       "4            ...                                    0   \n",
       "\n",
       "   native.country_Puerto-Rico  native.country_Scotland  native.country_South  \\\n",
       "0                           0                        0                     0   \n",
       "1                           0                        0                     0   \n",
       "2                           0                        0                     0   \n",
       "3                           0                        0                     0   \n",
       "4                           0                        0                     0   \n",
       "\n",
       "   native.country_Taiwan  native.country_Thailand  \\\n",
       "0                      0                        0   \n",
       "1                      0                        0   \n",
       "2                      0                        0   \n",
       "3                      0                        0   \n",
       "4                      0                        0   \n",
       "\n",
       "   native.country_Trinadad&Tobago  native.country_United-States  \\\n",
       "0                               0                             1   \n",
       "1                               0                             1   \n",
       "2                               0                             1   \n",
       "3                               0                             1   \n",
       "4                               0                             1   \n",
       "\n",
       "   native.country_Vietnam  native.country_Yugoslavia  \n",
       "0                       0                          0  \n",
       "1                       0                          0  \n",
       "2                       0                          0  \n",
       "3                       0                          0  \n",
       "4                       0                          0  \n",
       "\n",
       "[5 rows x 90 columns]"
      ]
     },
     "execution_count": 33,
     "metadata": {},
     "output_type": "execute_result"
    }
   ],
   "source": [
    "df.head()"
   ]
  },
  {
   "cell_type": "markdown",
   "metadata": {
    "deletable": true,
    "editable": true
   },
   "source": [
    "### Make <i>X</i> and <i>Y</i>\n",
    "We want to explain (or predict) \"age\". We need to remove some attributes that are obviously correlated to age, such as some marital.status values."
   ]
  },
  {
   "cell_type": "code",
   "execution_count": 34,
   "metadata": {
    "collapsed": true,
    "deletable": true,
    "editable": true
   },
   "outputs": [],
   "source": [
    "X = df.drop('age',axis=1)\n",
    "# remove some attributes that are clearly correlated with age\n",
    "#X = X.drop(['marital.status_Widowed'],axis=1)\n",
    "#X = X.drop(['marital.status_Never-married'],axis=1)\n",
    "X = X.drop(['marital.status_Never-married','marital.status_Widowed'],axis=1)\n",
    "\n",
    "Y = df.age"
   ]
  },
  {
   "cell_type": "markdown",
   "metadata": {
    "deletable": true,
    "editable": true
   },
   "source": [
    "# Regression for Data Exploration"
   ]
  },
  {
   "cell_type": "markdown",
   "metadata": {
    "deletable": true,
    "editable": true
   },
   "source": [
    "## Lasso"
   ]
  },
  {
   "cell_type": "markdown",
   "metadata": {
    "deletable": true,
    "editable": true
   },
   "source": [
    "Lasso will try to minimize the number of attributes used for the prediction, which gives us insights about which attributes are most important."
   ]
  },
  {
   "cell_type": "code",
   "execution_count": 35,
   "metadata": {
    "collapsed": true,
    "deletable": true,
    "editable": true
   },
   "outputs": [],
   "source": [
    "from sklearn import linear_model\n",
    "regLasso = linear_model.Lasso()"
   ]
  },
  {
   "cell_type": "code",
   "execution_count": 36,
   "metadata": {
    "collapsed": false,
    "deletable": true,
    "editable": true
   },
   "outputs": [
    {
     "data": {
      "text/plain": [
       "Lasso(alpha=1.0, copy_X=True, fit_intercept=True, max_iter=1000,\n",
       "   normalize=False, positive=False, precompute=False, random_state=None,\n",
       "   selection='cyclic', tol=0.0001, warm_start=False)"
      ]
     },
     "execution_count": 36,
     "metadata": {},
     "output_type": "execute_result"
    }
   ],
   "source": [
    "regLasso.fit(X,Y)"
   ]
  },
  {
   "cell_type": "markdown",
   "metadata": {
    "deletable": true,
    "editable": true
   },
   "source": [
    "Explore relevant attributes"
   ]
  },
  {
   "cell_type": "code",
   "execution_count": 37,
   "metadata": {
    "collapsed": false,
    "deletable": true,
    "editable": true
   },
   "outputs": [
    {
     "data": {
      "text/plain": [
       "array([-9.18312030e-06, -0.00000000e+00,  1.12715197e-04,  1.41557615e-03,\n",
       "       -3.97741517e-03,  0.00000000e+00,  0.00000000e+00,  0.00000000e+00,\n",
       "       -0.00000000e+00, -3.71270183e-01,  0.00000000e+00,  0.00000000e+00,\n",
       "        0.00000000e+00,  0.00000000e+00,  0.00000000e+00, -0.00000000e+00,\n",
       "        6.20029169e-01,  0.00000000e+00,  0.00000000e+00, -0.00000000e+00,\n",
       "       -0.00000000e+00, -0.00000000e+00,  0.00000000e+00,  0.00000000e+00,\n",
       "       -0.00000000e+00, -0.00000000e+00, -0.00000000e+00,  0.00000000e+00,\n",
       "        0.00000000e+00, -0.00000000e+00, -0.00000000e+00, -0.00000000e+00,\n",
       "        0.00000000e+00,  1.94140219e+00, -0.00000000e+00, -0.00000000e+00,\n",
       "       -7.18888014e+00,  0.00000000e+00,  0.00000000e+00, -0.00000000e+00,\n",
       "       -0.00000000e+00,  0.00000000e+00, -0.00000000e+00,  0.00000000e+00,\n",
       "       -0.00000000e+00,  0.00000000e+00, -0.00000000e+00,  0.00000000e+00,\n",
       "        0.00000000e+00,  0.00000000e+00,  0.00000000e+00, -0.00000000e+00,\n",
       "       -0.00000000e+00, -0.00000000e+00,  0.00000000e+00,  0.00000000e+00,\n",
       "        0.00000000e+00,  0.00000000e+00, -0.00000000e+00,  0.00000000e+00,\n",
       "       -0.00000000e+00, -0.00000000e+00, -0.00000000e+00,  0.00000000e+00,\n",
       "       -0.00000000e+00,  0.00000000e+00, -0.00000000e+00,  0.00000000e+00,\n",
       "       -0.00000000e+00, -0.00000000e+00, -0.00000000e+00, -0.00000000e+00,\n",
       "       -0.00000000e+00,  0.00000000e+00, -0.00000000e+00,  0.00000000e+00,\n",
       "        0.00000000e+00,  0.00000000e+00,  0.00000000e+00,  0.00000000e+00,\n",
       "       -0.00000000e+00, -0.00000000e+00, -0.00000000e+00,  0.00000000e+00,\n",
       "        0.00000000e+00, -0.00000000e+00, -0.00000000e+00])"
      ]
     },
     "execution_count": 37,
     "metadata": {},
     "output_type": "execute_result"
    }
   ],
   "source": [
    "regLasso.coef_"
   ]
  },
  {
   "cell_type": "code",
   "execution_count": 9,
   "metadata": {
    "collapsed": false,
    "deletable": true,
    "editable": true
   },
   "outputs": [
    {
     "data": {
      "text/plain": [
       "array([-9.18312030e-06, -0.00000000e+00,  1.12715197e-04,  1.41557615e-03,\n",
       "       -3.97741517e-03,  0.00000000e+00,  0.00000000e+00,  0.00000000e+00,\n",
       "       -0.00000000e+00, -3.71270183e-01,  0.00000000e+00,  0.00000000e+00,\n",
       "        0.00000000e+00,  0.00000000e+00,  0.00000000e+00, -0.00000000e+00,\n",
       "        6.20029169e-01,  0.00000000e+00,  0.00000000e+00, -0.00000000e+00,\n",
       "       -0.00000000e+00, -0.00000000e+00,  0.00000000e+00,  0.00000000e+00,\n",
       "       -0.00000000e+00, -0.00000000e+00, -0.00000000e+00,  0.00000000e+00,\n",
       "        0.00000000e+00, -0.00000000e+00, -0.00000000e+00, -0.00000000e+00,\n",
       "        0.00000000e+00,  1.94140219e+00, -0.00000000e+00, -0.00000000e+00,\n",
       "       -7.18888014e+00,  0.00000000e+00,  0.00000000e+00, -0.00000000e+00,\n",
       "       -0.00000000e+00,  0.00000000e+00, -0.00000000e+00,  0.00000000e+00,\n",
       "       -0.00000000e+00,  0.00000000e+00, -0.00000000e+00,  0.00000000e+00,\n",
       "        0.00000000e+00,  0.00000000e+00,  0.00000000e+00, -0.00000000e+00,\n",
       "       -0.00000000e+00, -0.00000000e+00,  0.00000000e+00,  0.00000000e+00,\n",
       "        0.00000000e+00,  0.00000000e+00, -0.00000000e+00,  0.00000000e+00,\n",
       "       -0.00000000e+00, -0.00000000e+00, -0.00000000e+00,  0.00000000e+00,\n",
       "       -0.00000000e+00,  0.00000000e+00, -0.00000000e+00,  0.00000000e+00,\n",
       "       -0.00000000e+00, -0.00000000e+00, -0.00000000e+00, -0.00000000e+00,\n",
       "       -0.00000000e+00,  0.00000000e+00, -0.00000000e+00,  0.00000000e+00,\n",
       "        0.00000000e+00,  0.00000000e+00,  0.00000000e+00,  0.00000000e+00,\n",
       "       -0.00000000e+00, -0.00000000e+00, -0.00000000e+00,  0.00000000e+00,\n",
       "        0.00000000e+00, -0.00000000e+00, -0.00000000e+00])"
      ]
     },
     "execution_count": 9,
     "metadata": {},
     "output_type": "execute_result"
    }
   ],
   "source": [
    "regLasso.coef_"
   ]
  },
  {
   "cell_type": "code",
   "execution_count": 10,
   "metadata": {
    "collapsed": false,
    "deletable": true,
    "editable": true
   },
   "outputs": [
    {
     "data": {
      "text/plain": [
       "{'fnlwgt': -9.183120297571753e-06,\n",
       " 'education.num': -0.0,\n",
       " 'capital.gain': 0.00011271519683205264,\n",
       " 'capital.loss': 0.0014155761535710543,\n",
       " 'hours.per.week': -0.003977415172271192,\n",
       " 'income': 0.0,\n",
       " 'workclass_Federal-gov': 0.0,\n",
       " 'workclass_Local-gov': 0.0,\n",
       " 'workclass_Never-worked': -0.0,\n",
       " 'workclass_Private': -0.3712701828227211,\n",
       " 'workclass_Self-emp-inc': 0.0,\n",
       " 'workclass_Self-emp-not-inc': 0.0,\n",
       " 'workclass_State-gov': 0.0,\n",
       " 'workclass_Without-pay': 0.0,\n",
       " 'marital.status_Divorced': 0.0,\n",
       " 'marital.status_Married-AF-spouse': -0.0,\n",
       " 'marital.status_Married-civ-spouse': 0.6200291687309228,\n",
       " 'marital.status_Married-spouse-absent': 0.0,\n",
       " 'marital.status_Separated': 0.0,\n",
       " 'occupation_Adm-clerical': -0.0,\n",
       " 'occupation_Armed-Forces': -0.0,\n",
       " 'occupation_Craft-repair': -0.0,\n",
       " 'occupation_Exec-managerial': 0.0,\n",
       " 'occupation_Farming-fishing': 0.0,\n",
       " 'occupation_Handlers-cleaners': -0.0,\n",
       " 'occupation_Machine-op-inspct': -0.0,\n",
       " 'occupation_Other-service': -0.0,\n",
       " 'occupation_Priv-house-serv': 0.0,\n",
       " 'occupation_Prof-specialty': 0.0,\n",
       " 'occupation_Protective-serv': -0.0,\n",
       " 'occupation_Sales': -0.0,\n",
       " 'occupation_Tech-support': -0.0,\n",
       " 'occupation_Transport-moving': 0.0,\n",
       " 'relationship_Husband': 1.9414021891343824,\n",
       " 'relationship_Not-in-family': -0.0,\n",
       " 'relationship_Other-relative': -0.0,\n",
       " 'relationship_Own-child': -7.188880144124342,\n",
       " 'relationship_Unmarried': 0.0,\n",
       " 'relationship_Wife': 0.0,\n",
       " 'race_Amer-Indian-Eskimo': -0.0,\n",
       " 'race_Asian-Pac-Islander': -0.0,\n",
       " 'race_Black': 0.0,\n",
       " 'race_Other': -0.0,\n",
       " 'race_White': 0.0,\n",
       " 'sex_Female': -0.0,\n",
       " 'sex_Male': 0.0,\n",
       " 'native.country_Cambodia': -0.0,\n",
       " 'native.country_Canada': 0.0,\n",
       " 'native.country_China': 0.0,\n",
       " 'native.country_Columbia': 0.0,\n",
       " 'native.country_Cuba': 0.0,\n",
       " 'native.country_Dominican-Republic': -0.0,\n",
       " 'native.country_Ecuador': -0.0,\n",
       " 'native.country_El-Salvador': -0.0,\n",
       " 'native.country_England': 0.0,\n",
       " 'native.country_France': 0.0,\n",
       " 'native.country_Germany': 0.0,\n",
       " 'native.country_Greece': 0.0,\n",
       " 'native.country_Guatemala': -0.0,\n",
       " 'native.country_Haiti': 0.0,\n",
       " 'native.country_Holand-Netherlands': -0.0,\n",
       " 'native.country_Honduras': -0.0,\n",
       " 'native.country_Hong': -0.0,\n",
       " 'native.country_Hungary': 0.0,\n",
       " 'native.country_India': -0.0,\n",
       " 'native.country_Iran': 0.0,\n",
       " 'native.country_Ireland': -0.0,\n",
       " 'native.country_Italy': 0.0,\n",
       " 'native.country_Jamaica': -0.0,\n",
       " 'native.country_Japan': -0.0,\n",
       " 'native.country_Laos': -0.0,\n",
       " 'native.country_Mexico': -0.0,\n",
       " 'native.country_Nicaragua': -0.0,\n",
       " 'native.country_Outlying-US(Guam-USVI-etc)': 0.0,\n",
       " 'native.country_Peru': -0.0,\n",
       " 'native.country_Philippines': 0.0,\n",
       " 'native.country_Poland': 0.0,\n",
       " 'native.country_Portugal': 0.0,\n",
       " 'native.country_Puerto-Rico': 0.0,\n",
       " 'native.country_Scotland': 0.0,\n",
       " 'native.country_South': -0.0,\n",
       " 'native.country_Taiwan': -0.0,\n",
       " 'native.country_Thailand': -0.0,\n",
       " 'native.country_Trinadad&Tobago': 0.0,\n",
       " 'native.country_United-States': 0.0,\n",
       " 'native.country_Vietnam': -0.0,\n",
       " 'native.country_Yugoslavia': -0.0}"
      ]
     },
     "execution_count": 10,
     "metadata": {},
     "output_type": "execute_result"
    }
   ],
   "source": [
    "{X.columns[i] : regLasso.coef_[i] for i in range(0,len(X.columns))}"
   ]
  },
  {
   "cell_type": "code",
   "execution_count": 11,
   "metadata": {
    "collapsed": false,
    "deletable": true,
    "editable": true
   },
   "outputs": [
    {
     "data": {
      "text/plain": [
       "fnlwgt                                      -0.000009\n",
       "education.num                               -0.000000\n",
       "capital.gain                                 0.000113\n",
       "capital.loss                                 0.001416\n",
       "hours.per.week                              -0.003977\n",
       "income                                       0.000000\n",
       "workclass_Federal-gov                        0.000000\n",
       "workclass_Local-gov                          0.000000\n",
       "workclass_Never-worked                      -0.000000\n",
       "workclass_Private                           -0.371270\n",
       "workclass_Self-emp-inc                       0.000000\n",
       "workclass_Self-emp-not-inc                   0.000000\n",
       "workclass_State-gov                          0.000000\n",
       "workclass_Without-pay                        0.000000\n",
       "marital.status_Divorced                      0.000000\n",
       "marital.status_Married-AF-spouse            -0.000000\n",
       "marital.status_Married-civ-spouse            0.620029\n",
       "marital.status_Married-spouse-absent         0.000000\n",
       "marital.status_Separated                     0.000000\n",
       "occupation_Adm-clerical                     -0.000000\n",
       "occupation_Armed-Forces                     -0.000000\n",
       "occupation_Craft-repair                     -0.000000\n",
       "occupation_Exec-managerial                   0.000000\n",
       "occupation_Farming-fishing                   0.000000\n",
       "occupation_Handlers-cleaners                -0.000000\n",
       "occupation_Machine-op-inspct                -0.000000\n",
       "occupation_Other-service                    -0.000000\n",
       "occupation_Priv-house-serv                   0.000000\n",
       "occupation_Prof-specialty                    0.000000\n",
       "occupation_Protective-serv                  -0.000000\n",
       "                                               ...   \n",
       "native.country_Greece                        0.000000\n",
       "native.country_Guatemala                    -0.000000\n",
       "native.country_Haiti                         0.000000\n",
       "native.country_Holand-Netherlands           -0.000000\n",
       "native.country_Honduras                     -0.000000\n",
       "native.country_Hong                         -0.000000\n",
       "native.country_Hungary                       0.000000\n",
       "native.country_India                        -0.000000\n",
       "native.country_Iran                          0.000000\n",
       "native.country_Ireland                      -0.000000\n",
       "native.country_Italy                         0.000000\n",
       "native.country_Jamaica                      -0.000000\n",
       "native.country_Japan                        -0.000000\n",
       "native.country_Laos                         -0.000000\n",
       "native.country_Mexico                       -0.000000\n",
       "native.country_Nicaragua                    -0.000000\n",
       "native.country_Outlying-US(Guam-USVI-etc)    0.000000\n",
       "native.country_Peru                         -0.000000\n",
       "native.country_Philippines                   0.000000\n",
       "native.country_Poland                        0.000000\n",
       "native.country_Portugal                      0.000000\n",
       "native.country_Puerto-Rico                   0.000000\n",
       "native.country_Scotland                      0.000000\n",
       "native.country_South                        -0.000000\n",
       "native.country_Taiwan                       -0.000000\n",
       "native.country_Thailand                     -0.000000\n",
       "native.country_Trinadad&Tobago               0.000000\n",
       "native.country_United-States                 0.000000\n",
       "native.country_Vietnam                      -0.000000\n",
       "native.country_Yugoslavia                   -0.000000\n",
       "Length: 87, dtype: float64"
      ]
     },
     "execution_count": 11,
     "metadata": {},
     "output_type": "execute_result"
    }
   ],
   "source": [
    "pd.Series({X.columns[i] : regLasso.coef_[i] \\\n",
    "               for i in range(0,len(X.columns))} )"
   ]
  },
  {
   "cell_type": "code",
   "execution_count": 12,
   "metadata": {
    "collapsed": true,
    "deletable": true,
    "editable": true
   },
   "outputs": [],
   "source": [
    "s = pd.Series({X.columns[i] : regLasso.coef_[i]\n",
    "               for i in range(0,len(X.columns))} )"
   ]
  },
  {
   "cell_type": "code",
   "execution_count": 13,
   "metadata": {
    "collapsed": false,
    "deletable": true,
    "editable": true
   },
   "outputs": [
    {
     "data": {
      "text/plain": [
       "fnlwgt                              -0.000009\n",
       "capital.gain                         0.000113\n",
       "capital.loss                         0.001416\n",
       "hours.per.week                      -0.003977\n",
       "workclass_Private                   -0.371270\n",
       "marital.status_Married-civ-spouse    0.620029\n",
       "relationship_Husband                 1.941402\n",
       "relationship_Own-child              -7.188880\n",
       "dtype: float64"
      ]
     },
     "execution_count": 13,
     "metadata": {},
     "output_type": "execute_result"
    }
   ],
   "source": [
    "s[s != 0]"
   ]
  },
  {
   "cell_type": "markdown",
   "metadata": {
    "deletable": true,
    "editable": true
   },
   "source": [
    "## Decision Tree Regressor"
   ]
  },
  {
   "cell_type": "markdown",
   "metadata": {
    "deletable": true,
    "editable": true
   },
   "source": [
    "Decision tree regressors predict one fixed value depending on the leaf reached by the object."
   ]
  },
  {
   "cell_type": "markdown",
   "metadata": {
    "deletable": true,
    "editable": true
   },
   "source": [
    "Build and train"
   ]
  },
  {
   "cell_type": "code",
   "execution_count": 38,
   "metadata": {
    "collapsed": true,
    "deletable": true,
    "editable": true
   },
   "outputs": [],
   "source": [
    "import sklearn.tree"
   ]
  },
  {
   "cell_type": "code",
   "execution_count": 39,
   "metadata": {
    "collapsed": true,
    "deletable": true,
    "editable": true
   },
   "outputs": [],
   "source": [
    "dt = sklearn.tree.DecisionTreeRegressor(max_depth = 2)"
   ]
  },
  {
   "cell_type": "code",
   "execution_count": 40,
   "metadata": {
    "collapsed": false,
    "deletable": true,
    "editable": true
   },
   "outputs": [
    {
     "data": {
      "text/plain": [
       "DecisionTreeRegressor(criterion='mse', max_depth=2, max_features=None,\n",
       "           max_leaf_nodes=None, min_impurity_decrease=0.0,\n",
       "           min_impurity_split=None, min_samples_leaf=1,\n",
       "           min_samples_split=2, min_weight_fraction_leaf=0.0,\n",
       "           presort=False, random_state=None, splitter='best')"
      ]
     },
     "execution_count": 40,
     "metadata": {},
     "output_type": "execute_result"
    }
   ],
   "source": [
    "dt.fit(X,Y)"
   ]
  },
  {
   "cell_type": "markdown",
   "metadata": {
    "deletable": true,
    "editable": true
   },
   "source": [
    "Visualize the tree"
   ]
  },
  {
   "cell_type": "code",
   "execution_count": 41,
   "metadata": {
    "collapsed": false,
    "deletable": true,
    "editable": true
   },
   "outputs": [
    {
     "data": {
      "text/plain": [
       "38.58164675532078"
      ]
     },
     "execution_count": 41,
     "metadata": {},
     "output_type": "execute_result"
    }
   ],
   "source": [
    "Y.mean()"
   ]
  },
  {
   "cell_type": "code",
   "execution_count": 42,
   "metadata": {
    "collapsed": false,
    "deletable": true,
    "editable": true
   },
   "outputs": [
    {
     "data": {
      "image/png": "[encoded data removed]",
      "text/plain": [
       "<IPython.core.display.Image object>"
      ]
     },
     "execution_count": 42,
     "metadata": {},
     "output_type": "execute_result"
    }
   ],
   "source": [
    "import sklearn.tree as tree\n",
    "from IPython.display import Image  \n",
    "import pydotplus\n",
    "\n",
    "dt_feature_names = list(X.columns)\n",
    "dt_target_names = np.array(Y.unique(),dtype=np.string_) \n",
    "tree.export_graphviz(dt, out_file='tree.dot', \n",
    "    feature_names=dt_feature_names, class_names=dt_target_names,\n",
    "    filled=True)  \n",
    "graph = pydotplus.graph_from_dot_file('tree.dot')\n",
    "Image(graph.create_png())"
   ]
  },
  {
   "cell_type": "markdown",
   "metadata": {
    "deletable": true,
    "editable": true
   },
   "source": [
    "# Regression for Prediction"
   ]
  },
  {
   "cell_type": "markdown",
   "metadata": {
    "deletable": true,
    "editable": true
   },
   "source": [
    "Let's split X and Y into training and test"
   ]
  },
  {
   "cell_type": "code",
   "execution_count": 43,
   "metadata": {
    "collapsed": true,
    "deletable": true,
    "editable": true
   },
   "outputs": [],
   "source": [
    "from sklearn.model_selection import train_test_split"
   ]
  },
  {
   "cell_type": "code",
   "execution_count": 44,
   "metadata": {
    "collapsed": true,
    "deletable": true,
    "editable": true
   },
   "outputs": [],
   "source": [
    "X_train, X_test, Y_train, Y_test = train_test_split(X,Y,\n",
    "                                    test_size=.3,random_state=0)"
   ]
  },
  {
   "cell_type": "markdown",
   "metadata": {
    "deletable": true,
    "editable": true
   },
   "source": [
    "Train and predict with Lasso"
   ]
  },
  {
   "cell_type": "code",
   "execution_count": 45,
   "metadata": {
    "collapsed": true,
    "deletable": true,
    "editable": true
   },
   "outputs": [],
   "source": [
    "regLasso = linear_model.Lasso()"
   ]
  },
  {
   "cell_type": "code",
   "execution_count": 46,
   "metadata": {
    "collapsed": false,
    "deletable": true,
    "editable": true
   },
   "outputs": [
    {
     "data": {
      "text/plain": [
       "Lasso(alpha=1.0, copy_X=True, fit_intercept=True, max_iter=1000,\n",
       "   normalize=False, positive=False, precompute=False, random_state=None,\n",
       "   selection='cyclic', tol=0.0001, warm_start=False)"
      ]
     },
     "execution_count": 46,
     "metadata": {},
     "output_type": "execute_result"
    }
   ],
   "source": [
    "regLasso.fit(X_train,Y_train)"
   ]
  },
  {
   "cell_type": "code",
   "execution_count": 47,
   "metadata": {
    "collapsed": true,
    "deletable": true,
    "editable": true
   },
   "outputs": [],
   "source": [
    "y_pred = regLasso.predict(X_test)"
   ]
  },
  {
   "cell_type": "code",
   "execution_count": 48,
   "metadata": {
    "collapsed": false,
    "deletable": true,
    "editable": true
   },
   "outputs": [
    {
     "data": {
      "text/plain": [
       "array([37.49469067, 30.80612447, 38.93558124, ..., 31.85294326,\n",
       "       38.66887771, 41.7979302 ])"
      ]
     },
     "execution_count": 48,
     "metadata": {},
     "output_type": "execute_result"
    }
   ],
   "source": [
    "y_pred"
   ]
  },
  {
   "cell_type": "markdown",
   "metadata": {
    "deletable": true,
    "editable": true
   },
   "source": [
    "## Metrics"
   ]
  },
  {
   "cell_type": "markdown",
   "metadata": {
    "deletable": true,
    "editable": true
   },
   "source": [
    "### Mean absolute error / Mean Absolute Deviation (MAD)"
   ]
  },
  {
   "cell_type": "markdown",
   "metadata": {
    "deletable": true,
    "editable": true
   },
   "source": [
    "The average of the absolute values of the errors"
   ]
  },
  {
   "cell_type": "code",
   "execution_count": 49,
   "metadata": {
    "collapsed": false,
    "deletable": true,
    "editable": true
   },
   "outputs": [
    {
     "data": {
      "text/plain": [
       "array([37.49469067, 30.80612447, 38.93558124, ..., 31.85294326,\n",
       "       38.66887771, 41.7979302 ])"
      ]
     },
     "execution_count": 49,
     "metadata": {},
     "output_type": "execute_result"
    }
   ],
   "source": [
    "y_pred"
   ]
  },
  {
   "cell_type": "code",
   "execution_count": 50,
   "metadata": {
    "collapsed": false,
    "deletable": true,
    "editable": true
   },
   "outputs": [
    {
     "data": {
      "text/plain": [
       "10.052039163469042"
      ]
     },
     "execution_count": 50,
     "metadata": {},
     "output_type": "execute_result"
    }
   ],
   "source": [
    "(y_pred - Y_test).abs().mean()"
   ]
  },
  {
   "cell_type": "markdown",
   "metadata": {
    "deletable": true,
    "editable": true
   },
   "source": [
    "#### Mean squared error / MSE"
   ]
  },
  {
   "cell_type": "markdown",
   "metadata": {
    "deletable": true,
    "editable": true
   },
   "source": [
    "The average of the errors squared"
   ]
  },
  {
   "cell_type": "code",
   "execution_count": 26,
   "metadata": {
    "collapsed": false,
    "deletable": true,
    "editable": true
   },
   "outputs": [
    {
     "data": {
      "text/plain": [
       "151.56218141236985"
      ]
     },
     "execution_count": 26,
     "metadata": {},
     "output_type": "execute_result"
    }
   ],
   "source": [
    "((y_pred - Y_test)**2).mean()"
   ]
  },
  {
   "cell_type": "markdown",
   "metadata": {
    "deletable": true,
    "editable": true
   },
   "source": [
    "## Find the best regressors"
   ]
  },
  {
   "cell_type": "code",
   "execution_count": 51,
   "metadata": {
    "collapsed": true,
    "deletable": true,
    "editable": true
   },
   "outputs": [],
   "source": [
    "from sklearn.linear_model import LinearRegression\n",
    "from sklearn.linear_model import ElasticNet\n",
    "from sklearn.tree import DecisionTreeRegressor\n",
    "from sklearn.ensemble import GradientBoostingRegressor\n",
    "from sklearn.neural_network import MLPRegressor\n",
    "from sklearn.svm import SVR\n",
    "\n",
    "regs = [LinearRegression(), ElasticNet(), DecisionTreeRegressor(), GradientBoostingRegressor(), MLPRegressor()]#, SVR()]\n",
    " "
   ]
  },
  {
   "cell_type": "markdown",
   "metadata": {
    "deletable": true,
    "editable": true
   },
   "source": [
    "Find the predictor that minimizes the cross-validated MAD."
   ]
  },
  {
   "cell_type": "code",
   "execution_count": 52,
   "metadata": {
    "collapsed": true,
    "deletable": true,
    "editable": true
   },
   "outputs": [],
   "source": [
    "from sklearn.model_selection import KFold"
   ]
  },
  {
   "cell_type": "code",
   "execution_count": 53,
   "metadata": {
    "collapsed": false,
    "deletable": true,
    "editable": true
   },
   "outputs": [
    {
     "name": "stdout",
     "output_type": "stream",
     "text": [
      "LinearRegression(copy_X=T with mad= -8.869293460066972\n",
      "ElasticNet(alpha=1.0, cop with mad= -10.397926945321737\n",
      "DecisionTreeRegressor(cri with mad= -10.919194928311827\n",
      "GradientBoostingRegressor with mad= -8.373979247226487\n",
      "MLPRegressor(activation=' with mad= -14.951415219129581\n",
      "***********************************************\n",
      "Best Regressor is... MLPRegressor(activation='\n",
      "**********************\n",
      "With MAD Score -14.951415219129581\n"
     ]
    }
   ],
   "source": [
    "minMAD = 10000000\n",
    "for reg in regs:\n",
    "    kf = KFold(random_state=0,shuffle=True)\n",
    "    mad = sklearn.model_selection.cross_val_score(reg,X,Y,\\\n",
    "             cv=kf,scoring='neg_mean_absolute_error').mean()\n",
    "    # need the lowest scoring for mad\n",
    "    print (str(reg)[:25] + ' with mad= ' + str(mad) )\n",
    "    if mad < minMAD:\n",
    "        minMAD = mad\n",
    "        bestREG = reg\n",
    "        \n",
    "print('***********************************************')\n",
    "print ('Best Regressor is... ' + str(bestREG)[:25] )\n",
    "print('**********************')\n",
    "print ('With MAD Score ' + str(minMAD))\n",
    "        "
   ]
  },
  {
   "cell_type": "markdown",
   "metadata": {
    "collapsed": true,
    "deletable": true,
    "editable": true
   },
   "source": [
    "**Tech Note** The scoring='neg_mean_absolute_error' option should be read as 'more negative value has better result'. But this is very confusing. Refer to github discussion: https://github.com/scikit-learn/scikit-learn/issues/2439"
   ]
  }
 ],
 "metadata": {
  "kernelspec": {
   "display_name": "Python 3",
   "language": "python",
   "name": "python3"
  },
  "language_info": {
   "codemirror_mode": {
    "name": "ipython",
    "version": 3
   },
   "file_extension": ".py",
   "mimetype": "text/x-python",
   "name": "python",
   "nbconvert_exporter": "python",
   "pygments_lexer": "ipython3",
   "version": "3.7.1"
  }
 },
 "nbformat": 4,
 "nbformat_minor": 1
}

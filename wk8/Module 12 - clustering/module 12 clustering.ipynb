{
 "cells": [
  {
   "cell_type": "markdown",
   "metadata": {
    "deletable": true,
    "editable": true
   },
   "source": [
    "# Clustering"
   ]
  },
  {
   "cell_type": "code",
   "execution_count": 1,
   "metadata": {
    "collapsed": false,
    "deletable": true,
    "editable": true
   },
   "outputs": [
    {
     "name": "stdout",
     "output_type": "stream",
     "text": [
      "Populating the interactive namespace from numpy and matplotlib\n"
     ]
    }
   ],
   "source": [
    "import seaborn as sns\n",
    "import pandas as pd\n",
    "import numpy as np\n",
    "%pylab inline"
   ]
  },
  {
   "cell_type": "markdown",
   "metadata": {
    "deletable": true,
    "editable": true
   },
   "source": [
    "We will find clusters in the affairs data set"
   ]
  },
  {
   "cell_type": "code",
   "execution_count": 2,
   "metadata": {
    "collapsed": true,
    "deletable": true,
    "editable": true
   },
   "outputs": [],
   "source": [
    "df = pd.read_csv('affairs.csv', index_col=0)"
   ]
  },
  {
   "cell_type": "code",
   "execution_count": 3,
   "metadata": {
    "collapsed": true,
    "deletable": true,
    "editable": true
   },
   "outputs": [],
   "source": [
    "df = pd.get_dummies(columns=['occupation'],data=df)"
   ]
  },
  {
   "cell_type": "code",
   "execution_count": 4,
   "metadata": {
    "collapsed": false,
    "deletable": true,
    "editable": true
   },
   "outputs": [
    {
     "data": {
      "text/html": [
       "<div>\n",
       "<style scoped>\n",
       "    .dataframe tbody tr th:only-of-type {\n",
       "        vertical-align: middle;\n",
       "    }\n",
       "\n",
       "    .dataframe tbody tr th {\n",
       "        vertical-align: top;\n",
       "    }\n",
       "\n",
       "    .dataframe thead th {\n",
       "        text-align: right;\n",
       "    }\n",
       "</style>\n",
       "<table border=\"1\" class=\"dataframe\">\n",
       "  <thead>\n",
       "    <tr style=\"text-align: right;\">\n",
       "      <th></th>\n",
       "      <th>rate_marriage</th>\n",
       "      <th>age</th>\n",
       "      <th>yrs_married</th>\n",
       "      <th>children</th>\n",
       "      <th>religious</th>\n",
       "      <th>educ</th>\n",
       "      <th>affairs</th>\n",
       "      <th>occupation_1</th>\n",
       "      <th>occupation_2</th>\n",
       "      <th>occupation_3</th>\n",
       "      <th>occupation_4</th>\n",
       "      <th>occupation_5</th>\n",
       "      <th>occupation_6</th>\n",
       "    </tr>\n",
       "  </thead>\n",
       "  <tbody>\n",
       "    <tr>\n",
       "      <th>0</th>\n",
       "      <td>3</td>\n",
       "      <td>32.0</td>\n",
       "      <td>9.0</td>\n",
       "      <td>3.0</td>\n",
       "      <td>3</td>\n",
       "      <td>17</td>\n",
       "      <td>0.111111</td>\n",
       "      <td>0</td>\n",
       "      <td>1</td>\n",
       "      <td>0</td>\n",
       "      <td>0</td>\n",
       "      <td>0</td>\n",
       "      <td>0</td>\n",
       "    </tr>\n",
       "    <tr>\n",
       "      <th>1</th>\n",
       "      <td>3</td>\n",
       "      <td>27.0</td>\n",
       "      <td>13.0</td>\n",
       "      <td>3.0</td>\n",
       "      <td>1</td>\n",
       "      <td>14</td>\n",
       "      <td>3.230769</td>\n",
       "      <td>0</td>\n",
       "      <td>0</td>\n",
       "      <td>1</td>\n",
       "      <td>0</td>\n",
       "      <td>0</td>\n",
       "      <td>0</td>\n",
       "    </tr>\n",
       "    <tr>\n",
       "      <th>2</th>\n",
       "      <td>4</td>\n",
       "      <td>22.0</td>\n",
       "      <td>2.5</td>\n",
       "      <td>0.0</td>\n",
       "      <td>1</td>\n",
       "      <td>16</td>\n",
       "      <td>1.400000</td>\n",
       "      <td>0</td>\n",
       "      <td>0</td>\n",
       "      <td>1</td>\n",
       "      <td>0</td>\n",
       "      <td>0</td>\n",
       "      <td>0</td>\n",
       "    </tr>\n",
       "    <tr>\n",
       "      <th>3</th>\n",
       "      <td>4</td>\n",
       "      <td>37.0</td>\n",
       "      <td>16.5</td>\n",
       "      <td>4.0</td>\n",
       "      <td>3</td>\n",
       "      <td>16</td>\n",
       "      <td>0.727273</td>\n",
       "      <td>0</td>\n",
       "      <td>0</td>\n",
       "      <td>0</td>\n",
       "      <td>0</td>\n",
       "      <td>1</td>\n",
       "      <td>0</td>\n",
       "    </tr>\n",
       "    <tr>\n",
       "      <th>4</th>\n",
       "      <td>5</td>\n",
       "      <td>27.0</td>\n",
       "      <td>9.0</td>\n",
       "      <td>1.0</td>\n",
       "      <td>1</td>\n",
       "      <td>14</td>\n",
       "      <td>4.666666</td>\n",
       "      <td>0</td>\n",
       "      <td>0</td>\n",
       "      <td>1</td>\n",
       "      <td>0</td>\n",
       "      <td>0</td>\n",
       "      <td>0</td>\n",
       "    </tr>\n",
       "  </tbody>\n",
       "</table>\n",
       "</div>"
      ],
      "text/plain": [
       "   rate_marriage   age  yrs_married  children  religious  educ   affairs  \\\n",
       "0              3  32.0          9.0       3.0          3    17  0.111111   \n",
       "1              3  27.0         13.0       3.0          1    14  3.230769   \n",
       "2              4  22.0          2.5       0.0          1    16  1.400000   \n",
       "3              4  37.0         16.5       4.0          3    16  0.727273   \n",
       "4              5  27.0          9.0       1.0          1    14  4.666666   \n",
       "\n",
       "   occupation_1  occupation_2  occupation_3  occupation_4  occupation_5  \\\n",
       "0             0             1             0             0             0   \n",
       "1             0             0             1             0             0   \n",
       "2             0             0             1             0             0   \n",
       "3             0             0             0             0             1   \n",
       "4             0             0             1             0             0   \n",
       "\n",
       "   occupation_6  \n",
       "0             0  \n",
       "1             0  \n",
       "2             0  \n",
       "3             0  \n",
       "4             0  "
      ]
     },
     "execution_count": 4,
     "metadata": {},
     "output_type": "execute_result"
    }
   ],
   "source": [
    "df.head()"
   ]
  },
  {
   "cell_type": "code",
   "execution_count": 5,
   "metadata": {
    "collapsed": false,
    "deletable": true,
    "editable": true
   },
   "outputs": [
    {
     "data": {
      "text/plain": [
       "6366"
      ]
     },
     "execution_count": 5,
     "metadata": {},
     "output_type": "execute_result"
    }
   ],
   "source": [
    "len(df)"
   ]
  },
  {
   "cell_type": "code",
   "execution_count": 6,
   "metadata": {
    "collapsed": false,
    "deletable": true,
    "editable": true
   },
   "outputs": [
    {
     "data": {
      "text/plain": [
       "rate_marriage      int64\n",
       "age              float64\n",
       "yrs_married      float64\n",
       "children         float64\n",
       "religious          int64\n",
       "educ               int64\n",
       "affairs          float64\n",
       "occupation_1       uint8\n",
       "occupation_2       uint8\n",
       "occupation_3       uint8\n",
       "occupation_4       uint8\n",
       "occupation_5       uint8\n",
       "occupation_6       uint8\n",
       "dtype: object"
      ]
     },
     "execution_count": 6,
     "metadata": {},
     "output_type": "execute_result"
    }
   ],
   "source": [
    "df.dtypes"
   ]
  },
  {
   "cell_type": "markdown",
   "metadata": {
    "deletable": true,
    "editable": true
   },
   "source": [
    "### Use KMeans to find 3 clusters"
   ]
  },
  {
   "cell_type": "code",
   "execution_count": 7,
   "metadata": {
    "collapsed": true,
    "deletable": true,
    "editable": true
   },
   "outputs": [],
   "source": [
    "from sklearn.cluster import KMeans"
   ]
  },
  {
   "cell_type": "code",
   "execution_count": 8,
   "metadata": {
    "collapsed": false,
    "deletable": true,
    "editable": true
   },
   "outputs": [
    {
     "data": {
      "text/html": [
       "<div>\n",
       "<style scoped>\n",
       "    .dataframe tbody tr th:only-of-type {\n",
       "        vertical-align: middle;\n",
       "    }\n",
       "\n",
       "    .dataframe tbody tr th {\n",
       "        vertical-align: top;\n",
       "    }\n",
       "\n",
       "    .dataframe thead th {\n",
       "        text-align: right;\n",
       "    }\n",
       "</style>\n",
       "<table border=\"1\" class=\"dataframe\">\n",
       "  <thead>\n",
       "    <tr style=\"text-align: right;\">\n",
       "      <th></th>\n",
       "      <th>rate_marriage</th>\n",
       "      <th>age</th>\n",
       "      <th>yrs_married</th>\n",
       "      <th>children</th>\n",
       "      <th>religious</th>\n",
       "      <th>educ</th>\n",
       "      <th>affairs</th>\n",
       "      <th>occupation_1</th>\n",
       "      <th>occupation_2</th>\n",
       "      <th>occupation_3</th>\n",
       "      <th>occupation_4</th>\n",
       "      <th>occupation_5</th>\n",
       "      <th>occupation_6</th>\n",
       "    </tr>\n",
       "  </thead>\n",
       "  <tbody>\n",
       "    <tr>\n",
       "      <th>0</th>\n",
       "      <td>3</td>\n",
       "      <td>32.0</td>\n",
       "      <td>9.0</td>\n",
       "      <td>3.0</td>\n",
       "      <td>3</td>\n",
       "      <td>17</td>\n",
       "      <td>0.111111</td>\n",
       "      <td>0</td>\n",
       "      <td>1</td>\n",
       "      <td>0</td>\n",
       "      <td>0</td>\n",
       "      <td>0</td>\n",
       "      <td>0</td>\n",
       "    </tr>\n",
       "    <tr>\n",
       "      <th>1</th>\n",
       "      <td>3</td>\n",
       "      <td>27.0</td>\n",
       "      <td>13.0</td>\n",
       "      <td>3.0</td>\n",
       "      <td>1</td>\n",
       "      <td>14</td>\n",
       "      <td>3.230769</td>\n",
       "      <td>0</td>\n",
       "      <td>0</td>\n",
       "      <td>1</td>\n",
       "      <td>0</td>\n",
       "      <td>0</td>\n",
       "      <td>0</td>\n",
       "    </tr>\n",
       "    <tr>\n",
       "      <th>2</th>\n",
       "      <td>4</td>\n",
       "      <td>22.0</td>\n",
       "      <td>2.5</td>\n",
       "      <td>0.0</td>\n",
       "      <td>1</td>\n",
       "      <td>16</td>\n",
       "      <td>1.400000</td>\n",
       "      <td>0</td>\n",
       "      <td>0</td>\n",
       "      <td>1</td>\n",
       "      <td>0</td>\n",
       "      <td>0</td>\n",
       "      <td>0</td>\n",
       "    </tr>\n",
       "    <tr>\n",
       "      <th>3</th>\n",
       "      <td>4</td>\n",
       "      <td>37.0</td>\n",
       "      <td>16.5</td>\n",
       "      <td>4.0</td>\n",
       "      <td>3</td>\n",
       "      <td>16</td>\n",
       "      <td>0.727273</td>\n",
       "      <td>0</td>\n",
       "      <td>0</td>\n",
       "      <td>0</td>\n",
       "      <td>0</td>\n",
       "      <td>1</td>\n",
       "      <td>0</td>\n",
       "    </tr>\n",
       "    <tr>\n",
       "      <th>4</th>\n",
       "      <td>5</td>\n",
       "      <td>27.0</td>\n",
       "      <td>9.0</td>\n",
       "      <td>1.0</td>\n",
       "      <td>1</td>\n",
       "      <td>14</td>\n",
       "      <td>4.666666</td>\n",
       "      <td>0</td>\n",
       "      <td>0</td>\n",
       "      <td>1</td>\n",
       "      <td>0</td>\n",
       "      <td>0</td>\n",
       "      <td>0</td>\n",
       "    </tr>\n",
       "  </tbody>\n",
       "</table>\n",
       "</div>"
      ],
      "text/plain": [
       "   rate_marriage   age  yrs_married  children  religious  educ   affairs  \\\n",
       "0              3  32.0          9.0       3.0          3    17  0.111111   \n",
       "1              3  27.0         13.0       3.0          1    14  3.230769   \n",
       "2              4  22.0          2.5       0.0          1    16  1.400000   \n",
       "3              4  37.0         16.5       4.0          3    16  0.727273   \n",
       "4              5  27.0          9.0       1.0          1    14  4.666666   \n",
       "\n",
       "   occupation_1  occupation_2  occupation_3  occupation_4  occupation_5  \\\n",
       "0             0             1             0             0             0   \n",
       "1             0             0             1             0             0   \n",
       "2             0             0             1             0             0   \n",
       "3             0             0             0             0             1   \n",
       "4             0             0             1             0             0   \n",
       "\n",
       "   occupation_6  \n",
       "0             0  \n",
       "1             0  \n",
       "2             0  \n",
       "3             0  \n",
       "4             0  "
      ]
     },
     "execution_count": 8,
     "metadata": {},
     "output_type": "execute_result"
    }
   ],
   "source": [
    "df.head()"
   ]
  },
  {
   "cell_type": "code",
   "execution_count": 9,
   "metadata": {
    "collapsed": true,
    "deletable": true,
    "editable": true
   },
   "outputs": [],
   "source": [
    "clu = KMeans(n_clusters=3, random_state=0)"
   ]
  },
  {
   "cell_type": "code",
   "execution_count": 10,
   "metadata": {
    "collapsed": false,
    "deletable": true,
    "editable": true
   },
   "outputs": [
    {
     "data": {
      "text/plain": [
       "KMeans(algorithm='auto', copy_x=True, init='k-means++', max_iter=300,\n",
       "    n_clusters=3, n_init=10, n_jobs=1, precompute_distances='auto',\n",
       "    random_state=0, tol=0.0001, verbose=0)"
      ]
     },
     "execution_count": 10,
     "metadata": {},
     "output_type": "execute_result"
    }
   ],
   "source": [
    "clu"
   ]
  },
  {
   "cell_type": "code",
   "execution_count": 11,
   "metadata": {
    "collapsed": false,
    "deletable": true,
    "editable": true
   },
   "outputs": [
    {
     "data": {
      "text/plain": [
       "KMeans(algorithm='auto', copy_x=True, init='k-means++', max_iter=300,\n",
       "    n_clusters=3, n_init=10, n_jobs=1, precompute_distances='auto',\n",
       "    random_state=0, tol=0.0001, verbose=0)"
      ]
     },
     "execution_count": 11,
     "metadata": {},
     "output_type": "execute_result"
    }
   ],
   "source": [
    "clu.fit(df)"
   ]
  },
  {
   "cell_type": "code",
   "execution_count": 12,
   "metadata": {
    "collapsed": false,
    "deletable": true,
    "editable": true
   },
   "outputs": [
    {
     "data": {
      "text/plain": [
       "array([2, 2, 0, ..., 0, 2, 0], dtype=int32)"
      ]
     },
     "execution_count": 12,
     "metadata": {},
     "output_type": "execute_result"
    }
   ],
   "source": [
    "clu.labels_"
   ]
  },
  {
   "cell_type": "markdown",
   "metadata": {
    "deletable": true,
    "editable": true
   },
   "source": [
    "### Getting summary information on the clusters' characteristics"
   ]
  },
  {
   "cell_type": "code",
   "execution_count": 13,
   "metadata": {
    "collapsed": true,
    "deletable": true,
    "editable": true
   },
   "outputs": [],
   "source": [
    "df2 = df.copy()"
   ]
  },
  {
   "cell_type": "code",
   "execution_count": 14,
   "metadata": {
    "collapsed": true,
    "deletable": true,
    "editable": true
   },
   "outputs": [],
   "source": [
    "df2['cluster']=clu.labels_"
   ]
  },
  {
   "cell_type": "code",
   "execution_count": 15,
   "metadata": {
    "collapsed": false,
    "deletable": true,
    "editable": true
   },
   "outputs": [
    {
     "data": {
      "text/html": [
       "<div>\n",
       "<style scoped>\n",
       "    .dataframe tbody tr th:only-of-type {\n",
       "        vertical-align: middle;\n",
       "    }\n",
       "\n",
       "    .dataframe tbody tr th {\n",
       "        vertical-align: top;\n",
       "    }\n",
       "\n",
       "    .dataframe thead th {\n",
       "        text-align: right;\n",
       "    }\n",
       "</style>\n",
       "<table border=\"1\" class=\"dataframe\">\n",
       "  <thead>\n",
       "    <tr style=\"text-align: right;\">\n",
       "      <th></th>\n",
       "      <th>rate_marriage</th>\n",
       "      <th>age</th>\n",
       "      <th>yrs_married</th>\n",
       "      <th>children</th>\n",
       "      <th>religious</th>\n",
       "      <th>educ</th>\n",
       "      <th>affairs</th>\n",
       "      <th>occupation_1</th>\n",
       "      <th>occupation_2</th>\n",
       "      <th>occupation_3</th>\n",
       "      <th>occupation_4</th>\n",
       "      <th>occupation_5</th>\n",
       "      <th>occupation_6</th>\n",
       "      <th>cluster</th>\n",
       "    </tr>\n",
       "  </thead>\n",
       "  <tbody>\n",
       "    <tr>\n",
       "      <th>0</th>\n",
       "      <td>3</td>\n",
       "      <td>32.0</td>\n",
       "      <td>9.0</td>\n",
       "      <td>3.0</td>\n",
       "      <td>3</td>\n",
       "      <td>17</td>\n",
       "      <td>0.111111</td>\n",
       "      <td>0</td>\n",
       "      <td>1</td>\n",
       "      <td>0</td>\n",
       "      <td>0</td>\n",
       "      <td>0</td>\n",
       "      <td>0</td>\n",
       "      <td>2</td>\n",
       "    </tr>\n",
       "    <tr>\n",
       "      <th>1</th>\n",
       "      <td>3</td>\n",
       "      <td>27.0</td>\n",
       "      <td>13.0</td>\n",
       "      <td>3.0</td>\n",
       "      <td>1</td>\n",
       "      <td>14</td>\n",
       "      <td>3.230769</td>\n",
       "      <td>0</td>\n",
       "      <td>0</td>\n",
       "      <td>1</td>\n",
       "      <td>0</td>\n",
       "      <td>0</td>\n",
       "      <td>0</td>\n",
       "      <td>2</td>\n",
       "    </tr>\n",
       "    <tr>\n",
       "      <th>2</th>\n",
       "      <td>4</td>\n",
       "      <td>22.0</td>\n",
       "      <td>2.5</td>\n",
       "      <td>0.0</td>\n",
       "      <td>1</td>\n",
       "      <td>16</td>\n",
       "      <td>1.400000</td>\n",
       "      <td>0</td>\n",
       "      <td>0</td>\n",
       "      <td>1</td>\n",
       "      <td>0</td>\n",
       "      <td>0</td>\n",
       "      <td>0</td>\n",
       "      <td>0</td>\n",
       "    </tr>\n",
       "    <tr>\n",
       "      <th>3</th>\n",
       "      <td>4</td>\n",
       "      <td>37.0</td>\n",
       "      <td>16.5</td>\n",
       "      <td>4.0</td>\n",
       "      <td>3</td>\n",
       "      <td>16</td>\n",
       "      <td>0.727273</td>\n",
       "      <td>0</td>\n",
       "      <td>0</td>\n",
       "      <td>0</td>\n",
       "      <td>0</td>\n",
       "      <td>1</td>\n",
       "      <td>0</td>\n",
       "      <td>1</td>\n",
       "    </tr>\n",
       "    <tr>\n",
       "      <th>4</th>\n",
       "      <td>5</td>\n",
       "      <td>27.0</td>\n",
       "      <td>9.0</td>\n",
       "      <td>1.0</td>\n",
       "      <td>1</td>\n",
       "      <td>14</td>\n",
       "      <td>4.666666</td>\n",
       "      <td>0</td>\n",
       "      <td>0</td>\n",
       "      <td>1</td>\n",
       "      <td>0</td>\n",
       "      <td>0</td>\n",
       "      <td>0</td>\n",
       "      <td>2</td>\n",
       "    </tr>\n",
       "  </tbody>\n",
       "</table>\n",
       "</div>"
      ],
      "text/plain": [
       "   rate_marriage   age  yrs_married  children  religious  educ   affairs  \\\n",
       "0              3  32.0          9.0       3.0          3    17  0.111111   \n",
       "1              3  27.0         13.0       3.0          1    14  3.230769   \n",
       "2              4  22.0          2.5       0.0          1    16  1.400000   \n",
       "3              4  37.0         16.5       4.0          3    16  0.727273   \n",
       "4              5  27.0          9.0       1.0          1    14  4.666666   \n",
       "\n",
       "   occupation_1  occupation_2  occupation_3  occupation_4  occupation_5  \\\n",
       "0             0             1             0             0             0   \n",
       "1             0             0             1             0             0   \n",
       "2             0             0             1             0             0   \n",
       "3             0             0             0             0             1   \n",
       "4             0             0             1             0             0   \n",
       "\n",
       "   occupation_6  cluster  \n",
       "0             0        2  \n",
       "1             0        2  \n",
       "2             0        0  \n",
       "3             0        1  \n",
       "4             0        2  "
      ]
     },
     "execution_count": 15,
     "metadata": {},
     "output_type": "execute_result"
    }
   ],
   "source": [
    "df2.head()"
   ]
  },
  {
   "cell_type": "code",
   "execution_count": 16,
   "metadata": {
    "collapsed": false,
    "deletable": true,
    "editable": true
   },
   "outputs": [
    {
     "data": {
      "text/html": [
       "<div>\n",
       "<style scoped>\n",
       "    .dataframe tbody tr th:only-of-type {\n",
       "        vertical-align: middle;\n",
       "    }\n",
       "\n",
       "    .dataframe tbody tr th {\n",
       "        vertical-align: top;\n",
       "    }\n",
       "\n",
       "    .dataframe thead th {\n",
       "        text-align: right;\n",
       "    }\n",
       "</style>\n",
       "<table border=\"1\" class=\"dataframe\">\n",
       "  <thead>\n",
       "    <tr style=\"text-align: right;\">\n",
       "      <th></th>\n",
       "      <th>rate_marriage</th>\n",
       "      <th>age</th>\n",
       "      <th>yrs_married</th>\n",
       "      <th>children</th>\n",
       "      <th>religious</th>\n",
       "      <th>educ</th>\n",
       "      <th>affairs</th>\n",
       "      <th>occupation_1</th>\n",
       "      <th>occupation_2</th>\n",
       "      <th>occupation_3</th>\n",
       "      <th>occupation_4</th>\n",
       "      <th>occupation_5</th>\n",
       "      <th>occupation_6</th>\n",
       "    </tr>\n",
       "    <tr>\n",
       "      <th>cluster</th>\n",
       "      <th></th>\n",
       "      <th></th>\n",
       "      <th></th>\n",
       "      <th></th>\n",
       "      <th></th>\n",
       "      <th></th>\n",
       "      <th></th>\n",
       "      <th></th>\n",
       "      <th></th>\n",
       "      <th></th>\n",
       "      <th></th>\n",
       "      <th></th>\n",
       "      <th></th>\n",
       "    </tr>\n",
       "  </thead>\n",
       "  <tbody>\n",
       "    <tr>\n",
       "      <th>0</th>\n",
       "      <td>4.215116</td>\n",
       "      <td>24.095785</td>\n",
       "      <td>3.358430</td>\n",
       "      <td>0.496366</td>\n",
       "      <td>2.330814</td>\n",
       "      <td>14.348547</td>\n",
       "      <td>0.876362</td>\n",
       "      <td>0.009012</td>\n",
       "      <td>0.127616</td>\n",
       "      <td>0.458140</td>\n",
       "      <td>0.288372</td>\n",
       "      <td>0.100581</td>\n",
       "      <td>0.016279</td>\n",
       "    </tr>\n",
       "    <tr>\n",
       "      <th>1</th>\n",
       "      <td>3.945343</td>\n",
       "      <td>39.979215</td>\n",
       "      <td>20.461124</td>\n",
       "      <td>3.060431</td>\n",
       "      <td>2.649731</td>\n",
       "      <td>13.883757</td>\n",
       "      <td>0.394723</td>\n",
       "      <td>0.003849</td>\n",
       "      <td>0.120862</td>\n",
       "      <td>0.444958</td>\n",
       "      <td>0.260200</td>\n",
       "      <td>0.153195</td>\n",
       "      <td>0.016936</td>\n",
       "    </tr>\n",
       "    <tr>\n",
       "      <th>2</th>\n",
       "      <td>4.017824</td>\n",
       "      <td>30.927474</td>\n",
       "      <td>11.814382</td>\n",
       "      <td>1.972649</td>\n",
       "      <td>2.449293</td>\n",
       "      <td>14.177013</td>\n",
       "      <td>0.591874</td>\n",
       "      <td>0.003073</td>\n",
       "      <td>0.161647</td>\n",
       "      <td>0.386601</td>\n",
       "      <td>0.309773</td>\n",
       "      <td>0.119852</td>\n",
       "      <td>0.019053</td>\n",
       "    </tr>\n",
       "  </tbody>\n",
       "</table>\n",
       "</div>"
      ],
      "text/plain": [
       "         rate_marriage        age  yrs_married  children  religious  \\\n",
       "cluster                                                               \n",
       "0             4.215116  24.095785     3.358430  0.496366   2.330814   \n",
       "1             3.945343  39.979215    20.461124  3.060431   2.649731   \n",
       "2             4.017824  30.927474    11.814382  1.972649   2.449293   \n",
       "\n",
       "              educ   affairs  occupation_1  occupation_2  occupation_3  \\\n",
       "cluster                                                                  \n",
       "0        14.348547  0.876362      0.009012      0.127616      0.458140   \n",
       "1        13.883757  0.394723      0.003849      0.120862      0.444958   \n",
       "2        14.177013  0.591874      0.003073      0.161647      0.386601   \n",
       "\n",
       "         occupation_4  occupation_5  occupation_6  \n",
       "cluster                                            \n",
       "0            0.288372      0.100581      0.016279  \n",
       "1            0.260200      0.153195      0.016936  \n",
       "2            0.309773      0.119852      0.019053  "
      ]
     },
     "execution_count": 16,
     "metadata": {},
     "output_type": "execute_result"
    }
   ],
   "source": [
    "df2.groupby('cluster').mean()"
   ]
  },
  {
   "cell_type": "code",
   "execution_count": 17,
   "metadata": {
    "collapsed": true,
    "deletable": true,
    "editable": true
   },
   "outputs": [],
   "source": [
    "import seaborn as sns"
   ]
  },
  {
   "cell_type": "code",
   "execution_count": 18,
   "metadata": {
    "collapsed": true,
    "deletable": true,
    "editable": true
   },
   "outputs": [],
   "source": [
    "df2['young']= df2.age <=23"
   ]
  },
  {
   "cell_type": "code",
   "execution_count": 19,
   "metadata": {
    "collapsed": false,
    "deletable": true,
    "editable": true
   },
   "outputs": [
    {
     "data": {
      "text/plain": [
       "<seaborn.axisgrid.FacetGrid at 0x1a0c4ff438>"
      ]
     },
     "execution_count": 19,
     "metadata": {},
     "output_type": "execute_result"
    },
    {
     "data": {
      "image/png": "[encoded data removed]",
      "text/plain": [
       "<Figure size 288x288 with 1 Axes>"
      ]
     },
     "metadata": {},
     "output_type": "display_data"
    }
   ],
   "source": [
    "sns.factorplot(x='young',y='affairs',data=df2, kind='bar')"
   ]
  },
  {
   "cell_type": "code",
   "execution_count": 20,
   "metadata": {
    "collapsed": true,
    "deletable": true,
    "editable": true
   },
   "outputs": [],
   "source": [
    "df2['binned_age'] = pd.cut(df2.age,bins=\\\n",
    "                        [0,20,24,30,40,50,100])"
   ]
  },
  {
   "cell_type": "code",
   "execution_count": 21,
   "metadata": {
    "collapsed": false,
    "deletable": true,
    "editable": true
   },
   "outputs": [
    {
     "data": {
      "text/html": [
       "<div>\n",
       "<style scoped>\n",
       "    .dataframe tbody tr th:only-of-type {\n",
       "        vertical-align: middle;\n",
       "    }\n",
       "\n",
       "    .dataframe tbody tr th {\n",
       "        vertical-align: top;\n",
       "    }\n",
       "\n",
       "    .dataframe thead th {\n",
       "        text-align: right;\n",
       "    }\n",
       "</style>\n",
       "<table border=\"1\" class=\"dataframe\">\n",
       "  <thead>\n",
       "    <tr style=\"text-align: right;\">\n",
       "      <th></th>\n",
       "      <th>rate_marriage</th>\n",
       "      <th>age</th>\n",
       "      <th>yrs_married</th>\n",
       "      <th>children</th>\n",
       "      <th>religious</th>\n",
       "      <th>educ</th>\n",
       "      <th>affairs</th>\n",
       "      <th>occupation_1</th>\n",
       "      <th>occupation_2</th>\n",
       "      <th>occupation_3</th>\n",
       "      <th>occupation_4</th>\n",
       "      <th>occupation_5</th>\n",
       "      <th>occupation_6</th>\n",
       "      <th>cluster</th>\n",
       "      <th>young</th>\n",
       "      <th>binned_age</th>\n",
       "    </tr>\n",
       "  </thead>\n",
       "  <tbody>\n",
       "    <tr>\n",
       "      <th>0</th>\n",
       "      <td>3</td>\n",
       "      <td>32.0</td>\n",
       "      <td>9.0</td>\n",
       "      <td>3.0</td>\n",
       "      <td>3</td>\n",
       "      <td>17</td>\n",
       "      <td>0.111111</td>\n",
       "      <td>0</td>\n",
       "      <td>1</td>\n",
       "      <td>0</td>\n",
       "      <td>0</td>\n",
       "      <td>0</td>\n",
       "      <td>0</td>\n",
       "      <td>2</td>\n",
       "      <td>False</td>\n",
       "      <td>(30, 40]</td>\n",
       "    </tr>\n",
       "    <tr>\n",
       "      <th>1</th>\n",
       "      <td>3</td>\n",
       "      <td>27.0</td>\n",
       "      <td>13.0</td>\n",
       "      <td>3.0</td>\n",
       "      <td>1</td>\n",
       "      <td>14</td>\n",
       "      <td>3.230769</td>\n",
       "      <td>0</td>\n",
       "      <td>0</td>\n",
       "      <td>1</td>\n",
       "      <td>0</td>\n",
       "      <td>0</td>\n",
       "      <td>0</td>\n",
       "      <td>2</td>\n",
       "      <td>False</td>\n",
       "      <td>(24, 30]</td>\n",
       "    </tr>\n",
       "    <tr>\n",
       "      <th>2</th>\n",
       "      <td>4</td>\n",
       "      <td>22.0</td>\n",
       "      <td>2.5</td>\n",
       "      <td>0.0</td>\n",
       "      <td>1</td>\n",
       "      <td>16</td>\n",
       "      <td>1.400000</td>\n",
       "      <td>0</td>\n",
       "      <td>0</td>\n",
       "      <td>1</td>\n",
       "      <td>0</td>\n",
       "      <td>0</td>\n",
       "      <td>0</td>\n",
       "      <td>0</td>\n",
       "      <td>True</td>\n",
       "      <td>(20, 24]</td>\n",
       "    </tr>\n",
       "    <tr>\n",
       "      <th>3</th>\n",
       "      <td>4</td>\n",
       "      <td>37.0</td>\n",
       "      <td>16.5</td>\n",
       "      <td>4.0</td>\n",
       "      <td>3</td>\n",
       "      <td>16</td>\n",
       "      <td>0.727273</td>\n",
       "      <td>0</td>\n",
       "      <td>0</td>\n",
       "      <td>0</td>\n",
       "      <td>0</td>\n",
       "      <td>1</td>\n",
       "      <td>0</td>\n",
       "      <td>1</td>\n",
       "      <td>False</td>\n",
       "      <td>(30, 40]</td>\n",
       "    </tr>\n",
       "    <tr>\n",
       "      <th>4</th>\n",
       "      <td>5</td>\n",
       "      <td>27.0</td>\n",
       "      <td>9.0</td>\n",
       "      <td>1.0</td>\n",
       "      <td>1</td>\n",
       "      <td>14</td>\n",
       "      <td>4.666666</td>\n",
       "      <td>0</td>\n",
       "      <td>0</td>\n",
       "      <td>1</td>\n",
       "      <td>0</td>\n",
       "      <td>0</td>\n",
       "      <td>0</td>\n",
       "      <td>2</td>\n",
       "      <td>False</td>\n",
       "      <td>(24, 30]</td>\n",
       "    </tr>\n",
       "  </tbody>\n",
       "</table>\n",
       "</div>"
      ],
      "text/plain": [
       "   rate_marriage   age  yrs_married  children  religious  educ   affairs  \\\n",
       "0              3  32.0          9.0       3.0          3    17  0.111111   \n",
       "1              3  27.0         13.0       3.0          1    14  3.230769   \n",
       "2              4  22.0          2.5       0.0          1    16  1.400000   \n",
       "3              4  37.0         16.5       4.0          3    16  0.727273   \n",
       "4              5  27.0          9.0       1.0          1    14  4.666666   \n",
       "\n",
       "   occupation_1  occupation_2  occupation_3  occupation_4  occupation_5  \\\n",
       "0             0             1             0             0             0   \n",
       "1             0             0             1             0             0   \n",
       "2             0             0             1             0             0   \n",
       "3             0             0             0             0             1   \n",
       "4             0             0             1             0             0   \n",
       "\n",
       "   occupation_6  cluster  young binned_age  \n",
       "0             0        2  False   (30, 40]  \n",
       "1             0        2  False   (24, 30]  \n",
       "2             0        0   True   (20, 24]  \n",
       "3             0        1  False   (30, 40]  \n",
       "4             0        2  False   (24, 30]  "
      ]
     },
     "execution_count": 21,
     "metadata": {},
     "output_type": "execute_result"
    }
   ],
   "source": [
    "df2.head()"
   ]
  },
  {
   "cell_type": "code",
   "execution_count": 22,
   "metadata": {
    "collapsed": false,
    "deletable": true,
    "editable": true
   },
   "outputs": [
    {
     "data": {
      "text/plain": [
       "<seaborn.axisgrid.FacetGrid at 0x1a18e14198>"
      ]
     },
     "execution_count": 22,
     "metadata": {},
     "output_type": "execute_result"
    },
    {
     "data": {
      "image/png": "[encoded data removed]",
      "text/plain": [
       "<Figure size 864x288 with 1 Axes>"
      ]
     },
     "metadata": {},
     "output_type": "display_data"
    }
   ],
   "source": [
    "sns.factorplot(x='binned_age',y='affairs',\\\n",
    "               data=df2, kind='bar', aspect=3)"
   ]
  },
  {
   "cell_type": "code",
   "execution_count": 24,
   "metadata": {
    "collapsed": false,
    "deletable": true,
    "editable": true
   },
   "outputs": [
    {
     "data": {
      "text/plain": [
       "<seaborn.axisgrid.FacetGrid at 0x1a18e44d68>"
      ]
     },
     "execution_count": 24,
     "metadata": {},
     "output_type": "execute_result"
    },
    {
     "data": {
      "image/png": "[encoded data removed]",
      "text/plain": [
       "<Figure size 638.125x288 with 1 Axes>"
      ]
     },
     "metadata": {},
     "output_type": "display_data"
    }
   ],
   "source": [
    "sns.factorplot(x='rate_marriage',y='affairs',hue='young',\\\n",
    "               data=df2, kind='bar',aspect=2)"
   ]
  },
  {
   "cell_type": "markdown",
   "metadata": {
    "deletable": true,
    "editable": true
   },
   "source": [
    "### Anything that is highly correlated and can be dropped ?"
   ]
  },
  {
   "cell_type": "code",
   "execution_count": 25,
   "metadata": {
    "collapsed": false,
    "deletable": true,
    "editable": true
   },
   "outputs": [
    {
     "data": {
      "text/html": [
       "<div>\n",
       "<style scoped>\n",
       "    .dataframe tbody tr th:only-of-type {\n",
       "        vertical-align: middle;\n",
       "    }\n",
       "\n",
       "    .dataframe tbody tr th {\n",
       "        vertical-align: top;\n",
       "    }\n",
       "\n",
       "    .dataframe thead th {\n",
       "        text-align: right;\n",
       "    }\n",
       "</style>\n",
       "<table border=\"1\" class=\"dataframe\">\n",
       "  <thead>\n",
       "    <tr style=\"text-align: right;\">\n",
       "      <th></th>\n",
       "      <th>rate_marriage</th>\n",
       "      <th>age</th>\n",
       "      <th>yrs_married</th>\n",
       "      <th>children</th>\n",
       "      <th>religious</th>\n",
       "      <th>educ</th>\n",
       "      <th>affairs</th>\n",
       "      <th>occupation_1</th>\n",
       "      <th>occupation_2</th>\n",
       "      <th>occupation_3</th>\n",
       "      <th>occupation_4</th>\n",
       "      <th>occupation_5</th>\n",
       "      <th>occupation_6</th>\n",
       "      <th>cluster</th>\n",
       "      <th>young</th>\n",
       "    </tr>\n",
       "  </thead>\n",
       "  <tbody>\n",
       "    <tr>\n",
       "      <th>rate_marriage</th>\n",
       "      <td>1.000000</td>\n",
       "      <td>-0.111127</td>\n",
       "      <td>-0.128978</td>\n",
       "      <td>-0.129161</td>\n",
       "      <td>0.078794</td>\n",
       "      <td>0.079869</td>\n",
       "      <td>-0.178068</td>\n",
       "      <td>0.017372</td>\n",
       "      <td>-0.019697</td>\n",
       "      <td>-0.053082</td>\n",
       "      <td>0.068882</td>\n",
       "      <td>-0.002109</td>\n",
       "      <td>0.008878</td>\n",
       "      <td>-0.098991</td>\n",
       "      <td>0.092806</td>\n",
       "    </tr>\n",
       "    <tr>\n",
       "      <th>age</th>\n",
       "      <td>-0.111127</td>\n",
       "      <td>1.000000</td>\n",
       "      <td>0.894082</td>\n",
       "      <td>0.673902</td>\n",
       "      <td>0.136598</td>\n",
       "      <td>0.027960</td>\n",
       "      <td>-0.089964</td>\n",
       "      <td>-0.042701</td>\n",
       "      <td>-0.034223</td>\n",
       "      <td>-0.066371</td>\n",
       "      <td>0.040982</td>\n",
       "      <td>0.079533</td>\n",
       "      <td>0.030676</td>\n",
       "      <td>0.546924</td>\n",
       "      <td>-0.715754</td>\n",
       "    </tr>\n",
       "    <tr>\n",
       "      <th>yrs_married</th>\n",
       "      <td>-0.128978</td>\n",
       "      <td>0.894082</td>\n",
       "      <td>1.000000</td>\n",
       "      <td>0.772806</td>\n",
       "      <td>0.132683</td>\n",
       "      <td>-0.109058</td>\n",
       "      <td>-0.087737</td>\n",
       "      <td>-0.036117</td>\n",
       "      <td>0.004668</td>\n",
       "      <td>-0.021261</td>\n",
       "      <td>-0.026816</td>\n",
       "      <td>0.076820</td>\n",
       "      <td>-0.004912</td>\n",
       "      <td>0.612621</td>\n",
       "      <td>-0.579067</td>\n",
       "    </tr>\n",
       "    <tr>\n",
       "      <th>children</th>\n",
       "      <td>-0.129161</td>\n",
       "      <td>0.673902</td>\n",
       "      <td>0.772806</td>\n",
       "      <td>1.000000</td>\n",
       "      <td>0.141845</td>\n",
       "      <td>-0.141918</td>\n",
       "      <td>-0.070278</td>\n",
       "      <td>-0.025718</td>\n",
       "      <td>0.081182</td>\n",
       "      <td>-0.063298</td>\n",
       "      <td>-0.003235</td>\n",
       "      <td>0.033274</td>\n",
       "      <td>-0.026830</td>\n",
       "      <td>0.522959</td>\n",
       "      <td>-0.477922</td>\n",
       "    </tr>\n",
       "    <tr>\n",
       "      <th>religious</th>\n",
       "      <td>0.078794</td>\n",
       "      <td>0.136598</td>\n",
       "      <td>0.132683</td>\n",
       "      <td>0.141845</td>\n",
       "      <td>1.000000</td>\n",
       "      <td>0.032245</td>\n",
       "      <td>-0.125933</td>\n",
       "      <td>-0.012237</td>\n",
       "      <td>-0.013129</td>\n",
       "      <td>-0.034986</td>\n",
       "      <td>0.043996</td>\n",
       "      <td>0.004260</td>\n",
       "      <td>0.011784</td>\n",
       "      <td>0.077348</td>\n",
       "      <td>-0.066197</td>\n",
       "    </tr>\n",
       "    <tr>\n",
       "      <th>educ</th>\n",
       "      <td>0.079869</td>\n",
       "      <td>0.027960</td>\n",
       "      <td>-0.109058</td>\n",
       "      <td>-0.141918</td>\n",
       "      <td>0.032245</td>\n",
       "      <td>1.000000</td>\n",
       "      <td>-0.017740</td>\n",
       "      <td>0.028309</td>\n",
       "      <td>-0.217719</td>\n",
       "      <td>-0.335615</td>\n",
       "      <td>0.477505</td>\n",
       "      <td>-0.022121</td>\n",
       "      <td>0.226920</td>\n",
       "      <td>-0.045259</td>\n",
       "      <td>-0.119411</td>\n",
       "    </tr>\n",
       "    <tr>\n",
       "      <th>affairs</th>\n",
       "      <td>-0.178068</td>\n",
       "      <td>-0.089964</td>\n",
       "      <td>-0.087737</td>\n",
       "      <td>-0.070278</td>\n",
       "      <td>-0.125933</td>\n",
       "      <td>-0.017740</td>\n",
       "      <td>1.000000</td>\n",
       "      <td>-0.010209</td>\n",
       "      <td>0.002542</td>\n",
       "      <td>0.019951</td>\n",
       "      <td>-0.043153</td>\n",
       "      <td>0.018080</td>\n",
       "      <td>0.029290</td>\n",
       "      <td>-0.065175</td>\n",
       "      <td>0.060863</td>\n",
       "    </tr>\n",
       "    <tr>\n",
       "      <th>occupation_1</th>\n",
       "      <td>0.017372</td>\n",
       "      <td>-0.042701</td>\n",
       "      <td>-0.036117</td>\n",
       "      <td>-0.025718</td>\n",
       "      <td>-0.012237</td>\n",
       "      <td>0.028309</td>\n",
       "      <td>-0.010209</td>\n",
       "      <td>1.000000</td>\n",
       "      <td>-0.031798</td>\n",
       "      <td>-0.070957</td>\n",
       "      <td>-0.051217</td>\n",
       "      <td>-0.029200</td>\n",
       "      <td>-0.010627</td>\n",
       "      <td>-0.033268</td>\n",
       "      <td>0.049119</td>\n",
       "    </tr>\n",
       "    <tr>\n",
       "      <th>occupation_2</th>\n",
       "      <td>-0.019697</td>\n",
       "      <td>-0.034223</td>\n",
       "      <td>0.004668</td>\n",
       "      <td>0.081182</td>\n",
       "      <td>-0.013129</td>\n",
       "      <td>-0.217719</td>\n",
       "      <td>0.002542</td>\n",
       "      <td>-0.031798</td>\n",
       "      <td>1.000000</td>\n",
       "      <td>-0.348075</td>\n",
       "      <td>-0.251243</td>\n",
       "      <td>-0.143237</td>\n",
       "      <td>-0.052128</td>\n",
       "      <td>0.037326</td>\n",
       "      <td>0.039321</td>\n",
       "    </tr>\n",
       "    <tr>\n",
       "      <th>occupation_3</th>\n",
       "      <td>-0.053082</td>\n",
       "      <td>-0.066371</td>\n",
       "      <td>-0.021261</td>\n",
       "      <td>-0.063298</td>\n",
       "      <td>-0.034986</td>\n",
       "      <td>-0.335615</td>\n",
       "      <td>0.019951</td>\n",
       "      <td>-0.070957</td>\n",
       "      <td>-0.348075</td>\n",
       "      <td>1.000000</td>\n",
       "      <td>-0.560645</td>\n",
       "      <td>-0.319631</td>\n",
       "      <td>-0.116322</td>\n",
       "      <td>-0.057838</td>\n",
       "      <td>0.113765</td>\n",
       "    </tr>\n",
       "    <tr>\n",
       "      <th>occupation_4</th>\n",
       "      <td>0.068882</td>\n",
       "      <td>0.040982</td>\n",
       "      <td>-0.026816</td>\n",
       "      <td>-0.003235</td>\n",
       "      <td>0.043996</td>\n",
       "      <td>0.477505</td>\n",
       "      <td>-0.043153</td>\n",
       "      <td>-0.051217</td>\n",
       "      <td>-0.251243</td>\n",
       "      <td>-0.560645</td>\n",
       "      <td>1.000000</td>\n",
       "      <td>-0.230712</td>\n",
       "      <td>-0.083962</td>\n",
       "      <td>0.014077</td>\n",
       "      <td>-0.110497</td>\n",
       "    </tr>\n",
       "    <tr>\n",
       "      <th>occupation_5</th>\n",
       "      <td>-0.002109</td>\n",
       "      <td>0.079533</td>\n",
       "      <td>0.076820</td>\n",
       "      <td>0.033274</td>\n",
       "      <td>0.004260</td>\n",
       "      <td>-0.022121</td>\n",
       "      <td>0.018080</td>\n",
       "      <td>-0.029200</td>\n",
       "      <td>-0.143237</td>\n",
       "      <td>-0.319631</td>\n",
       "      <td>-0.230712</td>\n",
       "      <td>1.000000</td>\n",
       "      <td>-0.047868</td>\n",
       "      <td>0.034634</td>\n",
       "      <td>-0.054730</td>\n",
       "    </tr>\n",
       "    <tr>\n",
       "      <th>occupation_6</th>\n",
       "      <td>0.008878</td>\n",
       "      <td>0.030676</td>\n",
       "      <td>-0.004912</td>\n",
       "      <td>-0.026830</td>\n",
       "      <td>0.011784</td>\n",
       "      <td>0.226920</td>\n",
       "      <td>0.029290</td>\n",
       "      <td>-0.010627</td>\n",
       "      <td>-0.052128</td>\n",
       "      <td>-0.116322</td>\n",
       "      <td>-0.083962</td>\n",
       "      <td>-0.047868</td>\n",
       "      <td>1.000000</td>\n",
       "      <td>0.008654</td>\n",
       "      <td>-0.047885</td>\n",
       "    </tr>\n",
       "    <tr>\n",
       "      <th>cluster</th>\n",
       "      <td>-0.098991</td>\n",
       "      <td>0.546924</td>\n",
       "      <td>0.612621</td>\n",
       "      <td>0.522959</td>\n",
       "      <td>0.077348</td>\n",
       "      <td>-0.045259</td>\n",
       "      <td>-0.065175</td>\n",
       "      <td>-0.033268</td>\n",
       "      <td>0.037326</td>\n",
       "      <td>-0.057838</td>\n",
       "      <td>0.014077</td>\n",
       "      <td>0.034634</td>\n",
       "      <td>0.008654</td>\n",
       "      <td>1.000000</td>\n",
       "      <td>-0.559836</td>\n",
       "    </tr>\n",
       "    <tr>\n",
       "      <th>young</th>\n",
       "      <td>0.092806</td>\n",
       "      <td>-0.715754</td>\n",
       "      <td>-0.579067</td>\n",
       "      <td>-0.477922</td>\n",
       "      <td>-0.066197</td>\n",
       "      <td>-0.119411</td>\n",
       "      <td>0.060863</td>\n",
       "      <td>0.049119</td>\n",
       "      <td>0.039321</td>\n",
       "      <td>0.113765</td>\n",
       "      <td>-0.110497</td>\n",
       "      <td>-0.054730</td>\n",
       "      <td>-0.047885</td>\n",
       "      <td>-0.559836</td>\n",
       "      <td>1.000000</td>\n",
       "    </tr>\n",
       "  </tbody>\n",
       "</table>\n",
       "</div>"
      ],
      "text/plain": [
       "               rate_marriage       age  yrs_married  children  religious  \\\n",
       "rate_marriage       1.000000 -0.111127    -0.128978 -0.129161   0.078794   \n",
       "age                -0.111127  1.000000     0.894082  0.673902   0.136598   \n",
       "yrs_married        -0.128978  0.894082     1.000000  0.772806   0.132683   \n",
       "children           -0.129161  0.673902     0.772806  1.000000   0.141845   \n",
       "religious           0.078794  0.136598     0.132683  0.141845   1.000000   \n",
       "educ                0.079869  0.027960    -0.109058 -0.141918   0.032245   \n",
       "affairs            -0.178068 -0.089964    -0.087737 -0.070278  -0.125933   \n",
       "occupation_1        0.017372 -0.042701    -0.036117 -0.025718  -0.012237   \n",
       "occupation_2       -0.019697 -0.034223     0.004668  0.081182  -0.013129   \n",
       "occupation_3       -0.053082 -0.066371    -0.021261 -0.063298  -0.034986   \n",
       "occupation_4        0.068882  0.040982    -0.026816 -0.003235   0.043996   \n",
       "occupation_5       -0.002109  0.079533     0.076820  0.033274   0.004260   \n",
       "occupation_6        0.008878  0.030676    -0.004912 -0.026830   0.011784   \n",
       "cluster            -0.098991  0.546924     0.612621  0.522959   0.077348   \n",
       "young               0.092806 -0.715754    -0.579067 -0.477922  -0.066197   \n",
       "\n",
       "                   educ   affairs  occupation_1  occupation_2  occupation_3  \\\n",
       "rate_marriage  0.079869 -0.178068      0.017372     -0.019697     -0.053082   \n",
       "age            0.027960 -0.089964     -0.042701     -0.034223     -0.066371   \n",
       "yrs_married   -0.109058 -0.087737     -0.036117      0.004668     -0.021261   \n",
       "children      -0.141918 -0.070278     -0.025718      0.081182     -0.063298   \n",
       "religious      0.032245 -0.125933     -0.012237     -0.013129     -0.034986   \n",
       "educ           1.000000 -0.017740      0.028309     -0.217719     -0.335615   \n",
       "affairs       -0.017740  1.000000     -0.010209      0.002542      0.019951   \n",
       "occupation_1   0.028309 -0.010209      1.000000     -0.031798     -0.070957   \n",
       "occupation_2  -0.217719  0.002542     -0.031798      1.000000     -0.348075   \n",
       "occupation_3  -0.335615  0.019951     -0.070957     -0.348075      1.000000   \n",
       "occupation_4   0.477505 -0.043153     -0.051217     -0.251243     -0.560645   \n",
       "occupation_5  -0.022121  0.018080     -0.029200     -0.143237     -0.319631   \n",
       "occupation_6   0.226920  0.029290     -0.010627     -0.052128     -0.116322   \n",
       "cluster       -0.045259 -0.065175     -0.033268      0.037326     -0.057838   \n",
       "young         -0.119411  0.060863      0.049119      0.039321      0.113765   \n",
       "\n",
       "               occupation_4  occupation_5  occupation_6   cluster     young  \n",
       "rate_marriage      0.068882     -0.002109      0.008878 -0.098991  0.092806  \n",
       "age                0.040982      0.079533      0.030676  0.546924 -0.715754  \n",
       "yrs_married       -0.026816      0.076820     -0.004912  0.612621 -0.579067  \n",
       "children          -0.003235      0.033274     -0.026830  0.522959 -0.477922  \n",
       "religious          0.043996      0.004260      0.011784  0.077348 -0.066197  \n",
       "educ               0.477505     -0.022121      0.226920 -0.045259 -0.119411  \n",
       "affairs           -0.043153      0.018080      0.029290 -0.065175  0.060863  \n",
       "occupation_1      -0.051217     -0.029200     -0.010627 -0.033268  0.049119  \n",
       "occupation_2      -0.251243     -0.143237     -0.052128  0.037326  0.039321  \n",
       "occupation_3      -0.560645     -0.319631     -0.116322 -0.057838  0.113765  \n",
       "occupation_4       1.000000     -0.230712     -0.083962  0.014077 -0.110497  \n",
       "occupation_5      -0.230712      1.000000     -0.047868  0.034634 -0.054730  \n",
       "occupation_6      -0.083962     -0.047868      1.000000  0.008654 -0.047885  \n",
       "cluster            0.014077      0.034634      0.008654  1.000000 -0.559836  \n",
       "young             -0.110497     -0.054730     -0.047885 -0.559836  1.000000  "
      ]
     },
     "execution_count": 25,
     "metadata": {},
     "output_type": "execute_result"
    }
   ],
   "source": [
    "df2.corr()"
   ]
  },
  {
   "cell_type": "markdown",
   "metadata": {
    "deletable": true,
    "editable": true
   },
   "source": [
    "### Finding the best clustering method"
   ]
  },
  {
   "cell_type": "code",
   "execution_count": 26,
   "metadata": {
    "collapsed": false,
    "deletable": true,
    "editable": true
   },
   "outputs": [
    {
     "name": "stdout",
     "output_type": "stream",
     "text": [
      "k= 2 \n",
      "KMeans with k=2: 0.5651\n",
      "Birch( with k=2: 0.5569\n",
      "Agglom with k=2: 0.5584\n",
      "k= 3 \n",
      "KMeans with k=3: 0.4233\n",
      "Birch( with k=3: 0.4748\n",
      "Agglom with k=3: 0.4781\n",
      "k= 4 \n",
      "KMeans with k=4: 0.3749\n",
      "Birch( with k=4: 0.3602\n",
      "Agglom with k=4: 0.3618\n",
      "k= 5 \n",
      "KMeans with k=5: 0.383\n",
      "Birch( with k=5: 0.3441\n",
      "Agglom with k=5: 0.3702\n",
      "***********************************************\n",
      "Best algorithm is... KMeans  with k=2\n",
      "**********************\n",
      "With Silhouette Score 0.5651278945170563\n"
     ]
    }
   ],
   "source": [
    "from sklearn import metrics\n",
    "from sklearn.cluster import KMeans\n",
    "from sklearn.cluster import Birch\n",
    "from sklearn.cluster import AgglomerativeClustering\n",
    "\n",
    "bestSil = -1\n",
    "for k in range(2,6):\n",
    "    print ('k= %d ' % k)\n",
    "    clus = [KMeans(n_clusters=k), Birch(n_clusters=k), AgglomerativeClustering(n_clusters=k)]\n",
    "    #clus = [KMeans(n_clusters=k,n_jobs=-1)]\n",
    "    for cl in clus:\n",
    "        res = cl.fit(df)\n",
    "        sil = metrics.silhouette_score(df, res.labels_)\n",
    "        print (str(cl)[:6] + ' with k=' +str(k) + \": \" + str(round(sil,4)))\n",
    "        if (sil > bestSil):\n",
    "            bestSil = sil\n",
    "            bestCl = cl\n",
    "            bestK = k\n",
    "print('***********************************************')\n",
    "print ('Best algorithm is... ' + str(bestCl)[:6] + '  with k=' +str(bestK) )\n",
    "print('**********************')\n",
    "print ('With Silhouette Score ' + str(bestSil))"
   ]
  },
  {
   "cell_type": "markdown",
   "metadata": {
    "collapsed": true,
    "deletable": true,
    "editable": true
   },
   "source": [
    "# Take-home exercise "
   ]
  },
  {
   "cell_type": "markdown",
   "metadata": {
    "collapsed": true,
    "deletable": true,
    "editable": true
   },
   "source": [
    "Open the <i>cleaned_survey.csv</i> data set.  Work with your project group members, find one interesting finding through clustering+seaborn"
   ]
  },
  {
   "cell_type": "code",
   "execution_count": 26,
   "metadata": {
    "collapsed": true,
    "deletable": true,
    "editable": true
   },
   "outputs": [],
   "source": [
    "df = pd.read_csv('cleaned_survey.csv', index_col=0)"
   ]
  },
  {
   "cell_type": "code",
   "execution_count": 27,
   "metadata": {
    "collapsed": false,
    "deletable": true,
    "editable": true
   },
   "outputs": [
    {
     "data": {
      "text/html": [
       "<div>\n",
       "<style scoped>\n",
       "    .dataframe tbody tr th:only-of-type {\n",
       "        vertical-align: middle;\n",
       "    }\n",
       "\n",
       "    .dataframe tbody tr th {\n",
       "        vertical-align: top;\n",
       "    }\n",
       "\n",
       "    .dataframe thead th {\n",
       "        text-align: right;\n",
       "    }\n",
       "</style>\n",
       "<table border=\"1\" class=\"dataframe\">\n",
       "  <thead>\n",
       "    <tr style=\"text-align: right;\">\n",
       "      <th></th>\n",
       "      <th>Job</th>\n",
       "      <th>Program</th>\n",
       "      <th>ProgSkills</th>\n",
       "      <th>C</th>\n",
       "      <th>CPP</th>\n",
       "      <th>CS</th>\n",
       "      <th>Java</th>\n",
       "      <th>Python</th>\n",
       "      <th>JS</th>\n",
       "      <th>R</th>\n",
       "      <th>...</th>\n",
       "      <th>Tableau</th>\n",
       "      <th>Regression</th>\n",
       "      <th>Classification</th>\n",
       "      <th>Clustering</th>\n",
       "      <th>Bach_0to1</th>\n",
       "      <th>Bach_1to3</th>\n",
       "      <th>Bach_3to5</th>\n",
       "      <th>Bach_5Plus</th>\n",
       "      <th>Languages</th>\n",
       "      <th>Expert</th>\n",
       "    </tr>\n",
       "  </thead>\n",
       "  <tbody>\n",
       "    <tr>\n",
       "      <th>0</th>\n",
       "      <td>0.0</td>\n",
       "      <td>MSIS</td>\n",
       "      <td>4</td>\n",
       "      <td>1</td>\n",
       "      <td>1</td>\n",
       "      <td>0.0</td>\n",
       "      <td>1</td>\n",
       "      <td>1.0</td>\n",
       "      <td>1.0</td>\n",
       "      <td>0.0</td>\n",
       "      <td>...</td>\n",
       "      <td>0</td>\n",
       "      <td>1.0</td>\n",
       "      <td>4</td>\n",
       "      <td>4</td>\n",
       "      <td>0</td>\n",
       "      <td>1</td>\n",
       "      <td>0</td>\n",
       "      <td>0</td>\n",
       "      <td>6.0</td>\n",
       "      <td>1</td>\n",
       "    </tr>\n",
       "    <tr>\n",
       "      <th>1</th>\n",
       "      <td>0.5</td>\n",
       "      <td>MSIS</td>\n",
       "      <td>3</td>\n",
       "      <td>1</td>\n",
       "      <td>1</td>\n",
       "      <td>0.0</td>\n",
       "      <td>1</td>\n",
       "      <td>0.0</td>\n",
       "      <td>0.0</td>\n",
       "      <td>0.0</td>\n",
       "      <td>...</td>\n",
       "      <td>0</td>\n",
       "      <td>0.0</td>\n",
       "      <td>2</td>\n",
       "      <td>2</td>\n",
       "      <td>0</td>\n",
       "      <td>0</td>\n",
       "      <td>0</td>\n",
       "      <td>1</td>\n",
       "      <td>4.0</td>\n",
       "      <td>1</td>\n",
       "    </tr>\n",
       "    <tr>\n",
       "      <th>2</th>\n",
       "      <td>0.0</td>\n",
       "      <td>MSIS</td>\n",
       "      <td>3</td>\n",
       "      <td>0</td>\n",
       "      <td>0</td>\n",
       "      <td>0.0</td>\n",
       "      <td>1</td>\n",
       "      <td>1.0</td>\n",
       "      <td>0.0</td>\n",
       "      <td>0.0</td>\n",
       "      <td>...</td>\n",
       "      <td>0</td>\n",
       "      <td>1.0</td>\n",
       "      <td>3</td>\n",
       "      <td>3</td>\n",
       "      <td>0</td>\n",
       "      <td>0</td>\n",
       "      <td>1</td>\n",
       "      <td>0</td>\n",
       "      <td>3.0</td>\n",
       "      <td>1</td>\n",
       "    </tr>\n",
       "    <tr>\n",
       "      <th>3</th>\n",
       "      <td>0.0</td>\n",
       "      <td>MSIS</td>\n",
       "      <td>3</td>\n",
       "      <td>1</td>\n",
       "      <td>0</td>\n",
       "      <td>0.0</td>\n",
       "      <td>1</td>\n",
       "      <td>1.0</td>\n",
       "      <td>0.0</td>\n",
       "      <td>1.0</td>\n",
       "      <td>...</td>\n",
       "      <td>0</td>\n",
       "      <td>1.0</td>\n",
       "      <td>2</td>\n",
       "      <td>3</td>\n",
       "      <td>0</td>\n",
       "      <td>0</td>\n",
       "      <td>0</td>\n",
       "      <td>1</td>\n",
       "      <td>5.0</td>\n",
       "      <td>1</td>\n",
       "    </tr>\n",
       "    <tr>\n",
       "      <th>4</th>\n",
       "      <td>0.0</td>\n",
       "      <td>MSIS</td>\n",
       "      <td>3</td>\n",
       "      <td>1</td>\n",
       "      <td>0</td>\n",
       "      <td>0.0</td>\n",
       "      <td>1</td>\n",
       "      <td>1.0</td>\n",
       "      <td>0.0</td>\n",
       "      <td>0.0</td>\n",
       "      <td>...</td>\n",
       "      <td>0</td>\n",
       "      <td>0.0</td>\n",
       "      <td>1</td>\n",
       "      <td>1</td>\n",
       "      <td>0</td>\n",
       "      <td>0</td>\n",
       "      <td>1</td>\n",
       "      <td>0</td>\n",
       "      <td>4.0</td>\n",
       "      <td>1</td>\n",
       "    </tr>\n",
       "  </tbody>\n",
       "</table>\n",
       "<p>5 rows × 23 columns</p>\n",
       "</div>"
      ],
      "text/plain": [
       "   Job Program  ProgSkills  C  CPP   CS  Java  Python   JS    R   ...    \\\n",
       "0  0.0    MSIS           4  1    1  0.0     1     1.0  1.0  0.0   ...     \n",
       "1  0.5    MSIS           3  1    1  0.0     1     0.0  0.0  0.0   ...     \n",
       "2  0.0    MSIS           3  0    0  0.0     1     1.0  0.0  0.0   ...     \n",
       "3  0.0    MSIS           3  1    0  0.0     1     1.0  0.0  1.0   ...     \n",
       "4  0.0    MSIS           3  1    0  0.0     1     1.0  0.0  0.0   ...     \n",
       "\n",
       "   Tableau  Regression  Classification  Clustering  Bach_0to1  Bach_1to3  \\\n",
       "0        0         1.0               4           4          0          1   \n",
       "1        0         0.0               2           2          0          0   \n",
       "2        0         1.0               3           3          0          0   \n",
       "3        0         1.0               2           3          0          0   \n",
       "4        0         0.0               1           1          0          0   \n",
       "\n",
       "   Bach_3to5  Bach_5Plus  Languages  Expert  \n",
       "0          0           0        6.0       1  \n",
       "1          0           1        4.0       1  \n",
       "2          1           0        3.0       1  \n",
       "3          0           1        5.0       1  \n",
       "4          1           0        4.0       1  \n",
       "\n",
       "[5 rows x 23 columns]"
      ]
     },
     "execution_count": 27,
     "metadata": {},
     "output_type": "execute_result"
    }
   ],
   "source": [
    "df.head()"
   ]
  },
  {
   "cell_type": "markdown",
   "metadata": {
    "deletable": true,
    "editable": true
   },
   "source": [
    "Continue here..."
   ]
  },
  {
   "cell_type": "code",
   "execution_count": null,
   "metadata": {
    "collapsed": true,
    "deletable": true,
    "editable": true
   },
   "outputs": [],
   "source": []
  },
  {
   "cell_type": "code",
   "execution_count": null,
   "metadata": {
    "collapsed": true,
    "deletable": true,
    "editable": true
   },
   "outputs": [],
   "source": []
  }
 ],
 "metadata": {
  "kernelspec": {
   "display_name": "Python 3",
   "language": "python",
   "name": "python3"
  },
  "language_info": {
   "codemirror_mode": {
    "name": "ipython",
    "version": 3
   },
   "file_extension": ".py",
   "mimetype": "text/x-python",
   "name": "python",
   "nbconvert_exporter": "python",
   "pygments_lexer": "ipython3",
   "version": "3.7.1"
  }
 },
 "nbformat": 4,
 "nbformat_minor": 1
}
